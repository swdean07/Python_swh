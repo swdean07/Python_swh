{
 "cells": [
  {
   "cell_type": "code",
   "execution_count": 1,
   "metadata": {},
   "outputs": [
    {
     "name": "stdout",
     "output_type": "stream",
     "text": [
      "0    4\n",
      "1    3\n",
      "2    5\n",
      "3    8\n",
      "dtype: int64\n",
      "<class 'pandas.core.series.Series'>\n",
      "[4 3 5 8]\n",
      "RangeIndex(start=0, stop=4, step=1)\n",
      "int64\n"
     ]
    }
   ],
   "source": [
    "import numpy as np\n",
    "import pandas as pd\n",
    "\n",
    "# Series 정의하기\n",
    "x = pd.Series([4, 3, 5, 8])\n",
    "print(x)\n",
    "print(type(x))\n",
    "\n",
    "# Series의값만확인하기\n",
    "print(x.values)\n",
    "\n",
    "# Series의인덱스만확인하기\n",
    "print(x.index)\n",
    "\n",
    "# Series의자료형확인하기\n",
    "print(x.dtype)"
   ]
  },
  {
   "cell_type": "code",
   "execution_count": 2,
   "metadata": {},
   "outputs": [
    {
     "name": "stdout",
     "output_type": "stream",
     "text": [
      "a    100\n",
      "b    200\n",
      "c    300\n",
      "d    400\n",
      "dtype: int64\n"
     ]
    }
   ],
   "source": [
    "data = [100,200,300,400]\n",
    "index_labels = ['a', 'b', 'c', 'd']\n",
    "series = pd.Series(data,index=index_labels)\n",
    "print(series)"
   ]
  },
  {
   "cell_type": "code",
   "execution_count": 5,
   "metadata": {},
   "outputs": [
    {
     "name": "stdout",
     "output_type": "stream",
     "text": [
      "Kim        35000\n",
      "Beomwoo    67000\n",
      "Joan       12000\n",
      "Choi        4000\n",
      "dtype: int64\n",
      "Names\n",
      "Kim        35000\n",
      "Beomwoo    67000\n",
      "Joan       12000\n",
      "Choi        4000\n",
      "Name: Salary, dtype: int64\n",
      "A    35000\n",
      "B    67000\n",
      "C    12000\n",
      "D     4000\n",
      "Name: Salary, dtype: int64\n"
     ]
    }
   ],
   "source": [
    "sdata = {'Kim': 35000, 'Beomwoo': 67000, 'Joan': 12000, 'Choi': 4000}\n",
    "obj3 = pd.Series(sdata)\n",
    "print(obj3)\n",
    "obj3.name = 'Salary'\n",
    "obj3.index.name = \"Names\"\n",
    "print(obj3)\n",
    "\n",
    "obj3.index = ['A', 'B', 'C', 'D']\n",
    "print(obj3)"
   ]
  },
  {
   "cell_type": "code",
   "execution_count": 6,
   "metadata": {},
   "outputs": [
    {
     "name": "stdout",
     "output_type": "stream",
     "text": [
      "서울    7\n",
      "대구    3\n",
      "부산    5\n",
      "광주    8\n",
      "dtype: int64\n",
      "7\n",
      "서울    7\n",
      "부산    5\n",
      "dtype: int64\n"
     ]
    }
   ],
   "source": [
    "# index 사용\n",
    "x=pd.Series([7,3,5,8], index=['서울','대구','부산','광주'])\n",
    "print(x)\n",
    "print(x['서울'])\n",
    "print(x[['서울','부산']])"
   ]
  },
  {
   "cell_type": "code",
   "execution_count": 7,
   "metadata": {},
   "outputs": [
    {
     "name": "stdout",
     "output_type": "stream",
     "text": [
      "광주     NaN\n",
      "대구     5.0\n",
      "대전     NaN\n",
      "부산     9.0\n",
      "서울    12.0\n",
      "dtype: float64\n"
     ]
    }
   ],
   "source": [
    "#Series 연산\n",
    "x=pd.Series([7,3,5,8], index=['서울','대구','부산','광주'])\n",
    "y=pd.Series([2,4,5,1], index=['대구','부산','서울','대전'])\n",
    "print(x+y)"
   ]
  },
  {
   "cell_type": "code",
   "execution_count": 8,
   "metadata": {},
   "outputs": [
    {
     "data": {
      "text/html": [
       "<div>\n",
       "<style scoped>\n",
       "    .dataframe tbody tr th:only-of-type {\n",
       "        vertical-align: middle;\n",
       "    }\n",
       "\n",
       "    .dataframe tbody tr th {\n",
       "        vertical-align: top;\n",
       "    }\n",
       "\n",
       "    .dataframe thead th {\n",
       "        text-align: right;\n",
       "    }\n",
       "</style>\n",
       "<table border=\"1\" class=\"dataframe\">\n",
       "  <thead>\n",
       "    <tr style=\"text-align: right;\">\n",
       "      <th></th>\n",
       "      <th>names</th>\n",
       "      <th>years</th>\n",
       "      <th>points</th>\n",
       "    </tr>\n",
       "  </thead>\n",
       "  <tbody>\n",
       "    <tr>\n",
       "      <th>0</th>\n",
       "      <td>민준</td>\n",
       "      <td>2013</td>\n",
       "      <td>1.5</td>\n",
       "    </tr>\n",
       "    <tr>\n",
       "      <th>1</th>\n",
       "      <td>현우</td>\n",
       "      <td>2014</td>\n",
       "      <td>1.7</td>\n",
       "    </tr>\n",
       "    <tr>\n",
       "      <th>2</th>\n",
       "      <td>서연</td>\n",
       "      <td>2015</td>\n",
       "      <td>3.6</td>\n",
       "    </tr>\n",
       "    <tr>\n",
       "      <th>3</th>\n",
       "      <td>동현</td>\n",
       "      <td>2016</td>\n",
       "      <td>2.4</td>\n",
       "    </tr>\n",
       "    <tr>\n",
       "      <th>4</th>\n",
       "      <td>지현</td>\n",
       "      <td>2015</td>\n",
       "      <td>2.9</td>\n",
       "    </tr>\n",
       "  </tbody>\n",
       "</table>\n",
       "</div>"
      ],
      "text/plain": [
       "  names  years  points\n",
       "0    민준   2013     1.5\n",
       "1    현우   2014     1.7\n",
       "2    서연   2015     3.6\n",
       "3    동현   2016     2.4\n",
       "4    지현   2015     2.9"
      ]
     },
     "execution_count": 8,
     "metadata": {},
     "output_type": "execute_result"
    }
   ],
   "source": [
    "data = {'names': ['민준', '현우', '서연', '동현', '지현'], \n",
    "'years': [2013, 2014, 2015, 2016, 2015], \n",
    "'points': [1.5, 1.7, 3.6, 2.4, 2.9]} \n",
    "df=pd.DataFrame(data)\n",
    "df"
   ]
  },
  {
   "cell_type": "code",
   "execution_count": 10,
   "metadata": {},
   "outputs": [
    {
     "data": {
      "text/html": [
       "<div>\n",
       "<style scoped>\n",
       "    .dataframe tbody tr th:only-of-type {\n",
       "        vertical-align: middle;\n",
       "    }\n",
       "\n",
       "    .dataframe tbody tr th {\n",
       "        vertical-align: top;\n",
       "    }\n",
       "\n",
       "    .dataframe thead th {\n",
       "        text-align: right;\n",
       "    }\n",
       "</style>\n",
       "<table border=\"1\" class=\"dataframe\">\n",
       "  <thead>\n",
       "    <tr style=\"text-align: right;\">\n",
       "      <th></th>\n",
       "      <th>이름</th>\n",
       "      <th>나이</th>\n",
       "      <th>좋아하는 음식</th>\n",
       "    </tr>\n",
       "  </thead>\n",
       "  <tbody>\n",
       "    <tr>\n",
       "      <th>ID1</th>\n",
       "      <td>상우</td>\n",
       "      <td>24</td>\n",
       "      <td>국밥</td>\n",
       "    </tr>\n",
       "    <tr>\n",
       "      <th>ID2</th>\n",
       "      <td>흥민</td>\n",
       "      <td>25</td>\n",
       "      <td>칼국수</td>\n",
       "    </tr>\n",
       "    <tr>\n",
       "      <th>ID3</th>\n",
       "      <td>민재</td>\n",
       "      <td>26</td>\n",
       "      <td>제육덮밥</td>\n",
       "    </tr>\n",
       "  </tbody>\n",
       "</table>\n",
       "</div>"
      ],
      "text/plain": [
       "     이름  나이 좋아하는 음식\n",
       "ID1  상우  24      국밥\n",
       "ID2  흥민  25     칼국수\n",
       "ID3  민재  26    제육덮밥"
      ]
     },
     "execution_count": 10,
     "metadata": {},
     "output_type": "execute_result"
    }
   ],
   "source": [
    "data = {\n",
    "    '이름' : ['상우','흥민','민재'],\n",
    "    '나이' : [24,25,26],\n",
    "    '좋아하는 음식' : ['국밥', '칼국수', '제육덮밥']\n",
    "}\n",
    "df = pd.DataFrame(data)\n",
    "df\n",
    "df.index = ['ID1', 'ID2', 'ID3']\n",
    "df"
   ]
  },
  {
   "cell_type": "code",
   "execution_count": 12,
   "metadata": {},
   "outputs": [
    {
     "data": {
      "text/html": [
       "<div>\n",
       "<style scoped>\n",
       "    .dataframe tbody tr th:only-of-type {\n",
       "        vertical-align: middle;\n",
       "    }\n",
       "\n",
       "    .dataframe tbody tr th {\n",
       "        vertical-align: top;\n",
       "    }\n",
       "\n",
       "    .dataframe thead th {\n",
       "        text-align: right;\n",
       "    }\n",
       "</style>\n",
       "<table border=\"1\" class=\"dataframe\">\n",
       "  <thead>\n",
       "    <tr style=\"text-align: right;\">\n",
       "      <th></th>\n",
       "      <th>years</th>\n",
       "      <th>points</th>\n",
       "    </tr>\n",
       "  </thead>\n",
       "  <tbody>\n",
       "    <tr>\n",
       "      <th>count</th>\n",
       "      <td>5.000000</td>\n",
       "      <td>5.000000</td>\n",
       "    </tr>\n",
       "    <tr>\n",
       "      <th>mean</th>\n",
       "      <td>2014.600000</td>\n",
       "      <td>2.420000</td>\n",
       "    </tr>\n",
       "    <tr>\n",
       "      <th>std</th>\n",
       "      <td>1.140175</td>\n",
       "      <td>0.864292</td>\n",
       "    </tr>\n",
       "    <tr>\n",
       "      <th>min</th>\n",
       "      <td>2013.000000</td>\n",
       "      <td>1.500000</td>\n",
       "    </tr>\n",
       "    <tr>\n",
       "      <th>25%</th>\n",
       "      <td>2014.000000</td>\n",
       "      <td>1.700000</td>\n",
       "    </tr>\n",
       "    <tr>\n",
       "      <th>50%</th>\n",
       "      <td>2015.000000</td>\n",
       "      <td>2.400000</td>\n",
       "    </tr>\n",
       "    <tr>\n",
       "      <th>75%</th>\n",
       "      <td>2015.000000</td>\n",
       "      <td>2.900000</td>\n",
       "    </tr>\n",
       "    <tr>\n",
       "      <th>max</th>\n",
       "      <td>2016.000000</td>\n",
       "      <td>3.600000</td>\n",
       "    </tr>\n",
       "  </tbody>\n",
       "</table>\n",
       "</div>"
      ],
      "text/plain": [
       "             years    points\n",
       "count     5.000000  5.000000\n",
       "mean   2014.600000  2.420000\n",
       "std       1.140175  0.864292\n",
       "min    2013.000000  1.500000\n",
       "25%    2014.000000  1.700000\n",
       "50%    2015.000000  2.400000\n",
       "75%    2015.000000  2.900000\n",
       "max    2016.000000  3.600000"
      ]
     },
     "execution_count": 12,
     "metadata": {},
     "output_type": "execute_result"
    }
   ],
   "source": [
    "data=[['민준','현우','서연','동현','지현'],\n",
    "      [2013,2014,2015,2016,2015],\n",
    "      [1.5,1.7,3.6,2.4,2.9]]\n",
    "data1=zip(data[0],data[1],data[2])\n",
    "df=pd.DataFrame(data1,columns=['names','years','points'])\n",
    "df\n",
    "df.describe()"
   ]
  },
  {
   "cell_type": "code",
   "execution_count": 17,
   "metadata": {},
   "outputs": [
    {
     "name": "stdout",
     "output_type": "stream",
     "text": [
      "행으로 추출\n",
      "     가격  판매량     총액\n",
      "0  1000   20  20000\n",
      "1  1500   30  45000\n",
      "2  2000   40  80000\n",
      "행으로 추출2\n",
      "가격      1500\n",
      "판매량       30\n",
      "총액     45000\n",
      "Name: 1, dtype: int64\n",
      "행, 열로 추출3\n",
      "0    20\n",
      "1    30\n",
      "2    40\n",
      "Name: 판매량, dtype: int64\n",
      "필터 추출4\n",
      "0    False\n",
      "1    False\n",
      "2    False\n",
      "3     True\n",
      "4     True\n",
      "Name: 가격, dtype: bool\n",
      "필터 추출5\n",
      "     가격  판매량      총액\n",
      "3  2500   50  125000\n",
      "4  3000   60  180000\n",
      "필터 추출6\n",
      "   판매량      총액\n",
      "3   50  125000\n",
      "4   60  180000\n",
      "     가격  판매량      총액\n",
      "3  2500   50  125000\n",
      "4  3000   60  180000\n"
     ]
    }
   ],
   "source": [
    "df = pd.DataFrame({\n",
    "    '가격':[1000,1500,2000,2500,3000],\n",
    "    '판매량':[10,15,20,25,30],\n",
    "})\n",
    "df['판매량'] = df['판매량'] * 2\n",
    "df\n",
    "df['총액'] = df['가격'] * df['판매량']\n",
    "df\n",
    "# del df['총액']\n",
    "# df\n",
    "\n",
    "# 행으로 접근, loc[]:라벨이름\n",
    "# 행으로 접근, iloc[]:인덱스 번호로 접근\n",
    "print(\"행으로 추출\")\n",
    "print(df[0:3])\n",
    "print(\"행으로 추출2\")\n",
    "print(df.loc[1])\n",
    "print(\"행, 열로 추출3\")\n",
    "print(df.iloc[0:3,1])\n",
    "print(\"필터 추출4\")\n",
    "print(df['가격']>2000)\n",
    "print(\"필터 추출5\")\n",
    "print(df.loc[df['가격']>2000,:])\n",
    "print(\"필터 추출6\")\n",
    "print(df.loc[df['가격']>2000,['판매량','총액']])\n",
    "print(df.loc[df['가격']>2000,:])"
   ]
  },
  {
   "cell_type": "code",
   "execution_count": 18,
   "metadata": {},
   "outputs": [
    {
     "name": "stdout",
     "output_type": "stream",
     "text": [
      "drop_df :    이름    점수\n",
      "0  철수  90.0\n",
      "2  민수  85.0\n",
      "3  지수  88.0\n",
      "fill_df :    이름    점수\n",
      "0  철수  90.0\n",
      "1  영희   0.0\n",
      "2  민수  85.0\n",
      "3  지수  88.0\n"
     ]
    }
   ],
   "source": [
    "df = pd.DataFrame({\n",
    "    '이름': ['철수','영희','민수','지수'],\n",
    "    '점수': [90, None, 85, 88]\n",
    "})\n",
    "df\n",
    "drop_df = df.dropna()\n",
    "fill_df = df.fillna(value=0)\n",
    "print(f\"drop_df : {drop_df}\")\n",
    "print(f\"fill_df : {fill_df}\")"
   ]
  },
  {
   "cell_type": "code",
   "execution_count": 19,
   "metadata": {},
   "outputs": [
    {
     "data": {
      "text/plain": [
       "np.float64(-0.6291593195072186)"
      ]
     },
     "execution_count": 19,
     "metadata": {},
     "output_type": "execute_result"
    }
   ],
   "source": [
    "df2=pd.DataFrame(np.random.randn(6,4),\n",
    "columns=[\"A\", \"B\", \"C\", \"D\"],\n",
    "index=pd.date_range(\"20160701\",periods=6))\n",
    "df2\n",
    "df2['A'].corr(df2['B'])"
   ]
  },
  {
   "cell_type": "code",
   "execution_count": 20,
   "metadata": {},
   "outputs": [
    {
     "name": "stdout",
     "output_type": "stream",
     "text": [
      "sort_df1 :   상품명    가격\n",
      "2   c  8000\n",
      "0   a  5000\n",
      "3   d  4000\n",
      "1   b  2000\n",
      "sort_df2 :   상품명    가격\n",
      "1   b  2000\n",
      "3   d  4000\n",
      "0   a  5000\n",
      "2   c  8000\n"
     ]
    }
   ],
   "source": [
    "df = pd.DataFrame({\n",
    "    '상품명' : [\"a\",\"b\",\"c\",\"d\"],\n",
    "    '가격' : [5000,2000,8000,4000]\n",
    "})\n",
    "df\n",
    "# 가격을 기준으로 오름차순, 정렬,\n",
    "sort_df1= df.sort_values(by='가격', ascending=False)\n",
    "sort_df2= df.sort_values(by='가격', ascending=True)\n",
    "print(f\"sort_df1 : {sort_df1}\")\n",
    "print(f\"sort_df2 : {sort_df2}\")"
   ]
  }
 ],
 "metadata": {
  "kernelspec": {
   "display_name": "Python 3",
   "language": "python",
   "name": "python3"
  },
  "language_info": {
   "codemirror_mode": {
    "name": "ipython",
    "version": 3
   },
   "file_extension": ".py",
   "mimetype": "text/x-python",
   "name": "python",
   "nbconvert_exporter": "python",
   "pygments_lexer": "ipython3",
   "version": "3.13.2"
  }
 },
 "nbformat": 4,
 "nbformat_minor": 2
}
