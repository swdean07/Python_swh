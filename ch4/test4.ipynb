{
 "cells": [
  {
   "cell_type": "code",
   "execution_count": 1,
   "metadata": {},
   "outputs": [
    {
     "name": "stdout",
     "output_type": "stream",
     "text": [
      "result 조회 해보기 : ['n', 'o', 'h', 't', 'y', 'p']\n",
      "word 조회 해보기. [::-1] : nohtyp\n"
     ]
    }
   ],
   "source": [
    "# list 를 함수, push(), pop() 이용해서, 스택처럼 사용해보기. \n",
    "word = input(\"문자열 입력해주세요: \")\n",
    "# input 함수 이용해서, 문자열 받고 , 다시, 문자열 -> 리스로 변환: list() 함수. \n",
    "word_list = list(word)\n",
    "\n",
    "# 임시로 저장할 빈 리슽, 참고로 전역. \n",
    "result = []\n",
    "# len 함수는 크기를 반환하는 함수. \n",
    "# word_list , pop() 함수로 꺼내서, result 임시 리스트에 담기. 반복문. \n",
    "for _ in range(len(word_list)):\n",
    "  result.append(word_list.pop())\n",
    "\n",
    "# 스택의 자료구조 형식을 이용해서 역순 출력\n",
    "print(f\"result 조회 해보기 : {result}\")\n",
    "# 단순, 슬라이싱을 이용해서, 역순 출력. \n",
    "print(f\"word 조회 해보기. [::-1] : {word[::-1]}\")"
   ]
  },
  {
   "cell_type": "code",
   "execution_count": 2,
   "metadata": {},
   "outputs": [
    {
     "name": "stdout",
     "output_type": "stream",
     "text": [
      "result 조회 해보기 : ['h', 'e', 'l', 'l', 'o']\n",
      "word 조회 해보기. [::-1] : olleh\n"
     ]
    }
   ],
   "source": [
    "# list 를 함수, push(), pop() 이용해서, 스택처럼 사용해보기. \n",
    "word = input(\"문자열 입력해주세요: \")\n",
    "# input 함수 이용해서, 문자열 받고 , 다시, 문자열 -> 리스로 변환: list() 함수. \n",
    "word_list = list(word)\n",
    "\n",
    "# 임시로 저장할 빈 리슽, 참고로 전역. \n",
    "result = []\n",
    "# len 함수는 크기를 반환하는 함수. \n",
    "# word_list , pop() 함수로 꺼내서, result 임시 리스트에 담기. 반복문. \n",
    "for _ in range(len(word_list)):\n",
    "  result.append(word_list.pop(0))\n",
    "\n",
    "# 스택의 자료구조 형식을 이용해서 역순 출력\n",
    "print(f\"result 조회 해보기 : {result}\")\n",
    "# 단순, 슬라이싱을 이용해서, 역순 출력. \n",
    "print(f\"word 조회 해보기. [::-1] : {word[::-1]}\")"
   ]
  },
  {
   "cell_type": "code",
   "execution_count": 3,
   "metadata": {},
   "outputs": [
    {
     "name": "stdout",
     "output_type": "stream",
     "text": [
      "[100, 2, 3]\n"
     ]
    }
   ],
   "source": [
    "a = [1,2,3]\n",
    "a[0] = 100\n",
    "print(a)"
   ]
  },
  {
   "cell_type": "code",
   "execution_count": 4,
   "metadata": {},
   "outputs": [
    {
     "ename": "TypeError",
     "evalue": "'tuple' object does not support item assignment",
     "output_type": "error",
     "traceback": [
      "\u001b[1;31m---------------------------------------------------------------------------\u001b[0m",
      "\u001b[1;31mTypeError\u001b[0m                                 Traceback (most recent call last)",
      "Cell \u001b[1;32mIn[4], line 2\u001b[0m\n\u001b[0;32m      1\u001b[0m a \u001b[38;5;241m=\u001b[39m (\u001b[38;5;241m1\u001b[39m,\u001b[38;5;241m2\u001b[39m,\u001b[38;5;241m3\u001b[39m)\n\u001b[1;32m----> 2\u001b[0m \u001b[43ma\u001b[49m\u001b[43m[\u001b[49m\u001b[38;5;241;43m0\u001b[39;49m\u001b[43m]\u001b[49m \u001b[38;5;241m=\u001b[39m \u001b[38;5;241m100\u001b[39m\n\u001b[0;32m      3\u001b[0m \u001b[38;5;28mprint\u001b[39m(a)\n",
      "\u001b[1;31mTypeError\u001b[0m: 'tuple' object does not support item assignment"
     ]
    }
   ],
   "source": [
    "a = (1,2,3)\n",
    "a[0] = 100\n",
    "print(a)"
   ]
  },
  {
   "cell_type": "code",
   "execution_count": 6,
   "metadata": {},
   "outputs": [
    {
     "name": "stdout",
     "output_type": "stream",
     "text": [
      "키: a, 값: 1\n",
      "키: b, 값: 2\n",
      "키: c, 값: [1, 2, 3]\n"
     ]
    }
   ],
   "source": [
    "dic1 = {\"a\": 1, \"b\" : 2, \"c\" : [1,2,3]}\n",
    "for k,v in dic1.items():\n",
    "    print(f\"키: {k}, 값: {v}\")"
   ]
  },
  {
   "cell_type": "code",
   "execution_count": 7,
   "metadata": {},
   "outputs": [
    {
     "name": "stdout",
     "output_type": "stream",
     "text": [
      "deque_list 출력 : deque([0, 1, 2, 3, 4])\n",
      "deque_list 출력 : deque([0, 1, 2, 3])\n",
      "deque_list 출력 : deque([0, 1, 2])\n"
     ]
    }
   ],
   "source": [
    "from collections import deque\n",
    "\n",
    "deque_list = deque()\n",
    "\n",
    " # 0 ~ 4, range(시작,끝, 증가값), 끝값은 미포함\n",
    "for i in range(5):\n",
    "  deque_list.append(i)\n",
    "print(f\"deque_list 출력 : {deque_list}\")\n",
    "\n",
    "# 스택처럼 하나씩 뒤에 값부터 4 꺼내기. pop() 이용 \n",
    "deque_list.pop() \n",
    "print(f\"deque_list 출력 : {deque_list}\")\n",
    "\n",
    "# 스택처럼 하나씩 뒤에 값부터 3 꺼내기. pop() 이용 \n",
    "deque_list.pop() \n",
    "print(f\"deque_list 출력 : {deque_list}\")"
   ]
  },
  {
   "cell_type": "code",
   "execution_count": 8,
   "metadata": {},
   "outputs": [
    {
     "name": "stdout",
     "output_type": "stream",
     "text": [
      "deque_list 출력 : deque([4, 3, 2, 1, 0])\n",
      "deque_list 출력 : deque([4, 3, 2, 1])\n",
      "deque_list 출력 : deque([4, 3, 2])\n"
     ]
    }
   ],
   "source": [
    "#deque , 큐처럼 사용하기, appendleft() 함수 이용하기. \n",
    "# 왼쪽부터 입력하게 해서, 들어간 값부터 출력하기. FIFO \n",
    "from collections import deque\n",
    "\n",
    "deque_list = deque()\n",
    "\n",
    " # 0 ~ 4, range(시작,끝, 증가값), 끝값은 미포함\n",
    "for i in range(5):\n",
    "  deque_list.appendleft(i)\n",
    "# 기존에 append 로 추가시, 오른쪽으로 추가했음. \n",
    "# [ 0,1,2,3,4]\n",
    "print(f\"deque_list 출력 : {deque_list}\")\n",
    "\n",
    "# 큐처럼 하나씩  먼저 들어온 값부터  0 꺼내기. pop() 이용 \n",
    "deque_list.pop() \n",
    "print(f\"deque_list 출력 : {deque_list}\")\n",
    "\n",
    "# 큐처럼 하나씩  먼저 들어온 값부터  1 꺼내기. pop() 이용 \n",
    "deque_list.pop() \n",
    "print(f\"deque_list 출력 : {deque_list}\")"
   ]
  },
  {
   "cell_type": "code",
   "execution_count": 9,
   "metadata": {},
   "outputs": [
    {
     "name": "stdout",
     "output_type": "stream",
     "text": [
      "deque_list 출력 : deque([4, 3, 2, 1, 0])\n",
      "deque_list 출력 : deque([1, 0, 4, 3, 2])\n"
     ]
    }
   ],
   "source": [
    "#deque , 각 요소의 다음 요소의 메모리 위치 주소값을 알고 있다. \n",
    "# 마지막 요소는 , 맨 처음 요소의 메모리 위치 주소값을 알고 있다. \n",
    "# 결론, 처음과 끝이 연결이 된구조가 되고, 이것을 이용해서, \n",
    "# 각 요소를 순회 시킬수 있다. \n",
    "# rotate() 함수를 이용해서, 각 요소를 이동이 가능하다. \n",
    "#deque , 큐처럼 사용하기, appendleft() 함수 이용하기. \n",
    "# 왼쪽부터 입력하게 해서, 들어간 값부터 출력하기. FIFO \n",
    "from collections import deque\n",
    "\n",
    "deque_list = deque()\n",
    "\n",
    " # 0 ~ 4, range(시작,끝, 증가값), 끝값은 미포함\n",
    "for i in range(5):\n",
    "  deque_list.appendleft(i)\n",
    "# 기존에 append 로 추가시, 오른쪽으로 추가했음. \n",
    "# [ 0,1,2,3,4]\n",
    "print(f\"deque_list 출력 : {deque_list}\")\n",
    "# deque_list 출력 : deque([4, 3, 2, 1, 0])\n",
    "\n",
    "# rotate() 함수 이용 \n",
    "# 2칸 이동해보기. \n",
    "deque_list.rotate(2)\n",
    "print(f\"deque_list 출력 : {deque_list}\")"
   ]
  },
  {
   "cell_type": "code",
   "execution_count": 10,
   "metadata": {},
   "outputs": [
    {
     "name": "stdout",
     "output_type": "stream",
     "text": [
      "deque_list 출력 : deque([4, 3, 2, 1, 0])\n",
      "deque_list 출력 : deque([0, 1, 2, 3, 4])\n"
     ]
    }
   ],
   "source": [
    "# reversed() 확인. \n",
    "from collections import deque\n",
    "\n",
    "deque_list = deque()\n",
    "\n",
    " # 0 ~ 4, range(시작,끝, 증가값), 끝값은 미포함\n",
    "for i in range(5):\n",
    "  deque_list.appendleft(i)\n",
    "# 기존에 append 로 추가시, 오른쪽으로 추가했음. \n",
    "# [ 0,1,2,3,4]\n",
    "print(f\"deque_list 출력 : {deque_list}\")\n",
    "# deque_list 출력 : deque([4, 3, 2, 1, 0])\n",
    "deque_list_reversed = deque(reversed(deque_list))\n",
    "print(f\"deque_list 출력 : {deque_list_reversed}\")"
   ]
  },
  {
   "cell_type": "code",
   "execution_count": 11,
   "metadata": {},
   "outputs": [
    {
     "name": "stdout",
     "output_type": "stream",
     "text": [
      "key : x, value : 1\n",
      "key : b, value : 2\n",
      "key : d, value : 4\n",
      "key : c, value : 3\n",
      "key : e, value : 5\n"
     ]
    }
   ],
   "source": [
    "d= {} # {} , 딕션너리 의미 \n",
    "d[\"x\"] = 1\n",
    "d[\"b\"] = 2\n",
    "d[\"d\"] = 4\n",
    "d[\"c\"] = 3\n",
    "d[\"e\"] = 5\n",
    "\n",
    "for k,v in d.items():\n",
    "  print(f\"key : {k}, value : {v}\")"
   ]
  },
  {
   "cell_type": "code",
   "execution_count": 12,
   "metadata": {},
   "outputs": [
    {
     "name": "stdout",
     "output_type": "stream",
     "text": [
      "key : x, value : 1\n",
      "key : b, value : 2\n",
      "key : d, value : 4\n",
      "key : c, value : 3\n",
      "key : e, value : 5\n"
     ]
    }
   ],
   "source": [
    "# OrderdDict , 순서있는 딕션너리 이용하기. \n",
    "from collections import OrderedDict\n",
    "d= OrderedDict()\n",
    "d[\"x\"] = 1\n",
    "d[\"b\"] = 2\n",
    "d[\"d\"] = 4\n",
    "d[\"c\"] = 3\n",
    "d[\"e\"] = 5\n",
    "\n",
    "for k,v in d.items():\n",
    "  print(f\"key : {k}, value : {v}\")"
   ]
  },
  {
   "cell_type": "code",
   "execution_count": 13,
   "metadata": {},
   "outputs": [
    {
     "name": "stdout",
     "output_type": "stream",
     "text": [
      "key : b, value : 2\n",
      "key : c, value : 3\n",
      "key : d, value : 4\n",
      "key : e, value : 5\n",
      "key : x, value : 1\n"
     ]
    }
   ],
   "source": [
    "# 정렬 해보기. \n",
    "# OrderdDict , 순서있는 딕션너리 이용하기. \n",
    "def sort_by_key(t):\n",
    "  return t[0]\n",
    "\n",
    "from collections import OrderedDict\n",
    "d= OrderedDict()\n",
    "d[\"x\"] = 1\n",
    "d[\"b\"] = 2\n",
    "d[\"d\"] = 4\n",
    "d[\"c\"] = 3\n",
    "d[\"e\"] = 5\n",
    "\n",
    "# key 정렬해보기. \n",
    "for k,v in OrderedDict(sorted(d.items(), key=sort_by_key)).items():\n",
    "  print(f\"key : {k}, value : {v}\")"
   ]
  },
  {
   "cell_type": "code",
   "execution_count": null,
   "metadata": {},
   "outputs": [],
   "source": [
    "#미니실습 #파이썬기초 #bigdata_with_python\n",
    "\n",
    "# 리스트, 셋, 튜플, 딕션너리 활용1\n",
    "\n",
    "# 🔹 기본 실습 1: 리스트 활용 (추가, 삭제, 수정, 조회, 검색)\n",
    "# 문제:\n",
    "# 리스트를 활용하여 다음 기능을 수행하는 프로그램을 작성하세요.\n",
    "\n",
    "# 사용자가 입력한 값을 리스트에 추가\n",
    "# 특정 인덱스의 값을 변경\n",
    "# 리스트에서 특정 값을 삭제\n",
    "# 리스트의 모든 요소 조회\n",
    "# 특정 값이 리스트에 있는지 검색\n",
    "\n",
    "# 단순 기능 구현만 보이기\n",
    "\n",
    "# 예시)\n",
    "# # 1. 추가\n",
    "# my_list.append(\"사과\")\n",
    "# my_list.append(\"바나나\")\n",
    "# my_list.append(\"체리\")\n",
    "\n",
    "# # 2. 수정 (첫 번째 요소 변경)\n",
    "# my_list[0] = \"오렌지\"\n",
    "\n",
    "# # 3. 삭제 (바나나 삭제)\n",
    "# my_list.remove(\"바나나\")\n",
    "\n",
    "# # 4. 조회 (전체 출력)\n",
    "# print(\"현재 리스트:\", my_list)\n",
    "\n",
    "# # 5. 검색 (체리가 있는지 확인)\n",
    "# search_item = \"체리\"\n",
    "# if search_item in my_list:\n",
    "# print(f\"'{search_item}'가 리스트에 존재합니다.\")\n",
    "# else:\n",
    "# print(f\"'{search_item}'가 리스트에 없습니다.\")\n",
    "\n",
    "# 🔹 기본 실습 2: 튜플 활용 (조회, 검색)\n",
    "# 문제:\n",
    "# 튜플을 활용하여 다음 기능을 수행하는 프로그램을 작성하세요.\n",
    "\n",
    "# 주어진 튜플에서 특정 인덱스의 값을 조회\n",
    "# 특정 값이 튜플에 있는지 검색\n",
    "\n",
    "# 단순 기능 구현만 보이기\n",
    "\n",
    "# 🔹 기본 실습 3: 셋 활용 (추가, 삭제, 조회, 검색)\n",
    "# 문제:\n",
    "# 셋을 활용하여 다음 기능을 수행하는 프로그램을 작성하세요.\n",
    "\n",
    "# 사용자가 입력한 값을 셋에 추가\n",
    "# 특정 값을 삭제\n",
    "# 셋의 모든 요소 조회\n",
    "# 특정 값이 셋에 있는지 검색\n",
    "\n",
    "# 단순 기능 구현만 보이기\n",
    "\n",
    "\n",
    "# 🔹 응용 실습 1: 학생 목록 관리 (리스트 활용)\n",
    "# 문제:\n",
    "# 학생 이름을 저장하는 리스트를 활용하여 다음 기능을 구현하세요.\n",
    "\n",
    "# 학생 추가\n",
    "# 학생 삭제\n",
    "# 학생 목록 출력\n",
    "# 특정 학생이 목록에 있는지 검색\n",
    "\n",
    "# 단순 기능 구현만 보이기\n",
    "\n",
    "\n",
    "# 🔹 응용 실습 2: 상품 재고 관리 (딕셔너리 활용)\n",
    "# 문제:\n",
    "# 딕셔너리를 활용하여 상품 재고를 관리하는 프로그램을 작성하세요.\n",
    "\n",
    "# 새로운 상품 추가\n",
    "# 특정 상품의 재고 변경\n",
    "# 특정 상품 삭제\n",
    "# 전체 상품 목록 조회\n",
    "# 특정 상품 검색\n",
    "\n",
    "# 단순 기능 구현만 보이기\n",
    "\n",
    "# 🔹 응용 실습 3: 유일한 값 추출기 (셋 활용)\n",
    "# 문제:\n",
    "# 리스트에서 중복된 값을 제거하고, 유일한 값들만 저장하는 프로그램을 작성하세요.\n",
    "\n",
    "# 단순 기능 구현만 보이기"
   ]
  },
  {
   "cell_type": "code",
   "execution_count": 22,
   "metadata": {},
   "outputs": [
    {
     "name": "stdout",
     "output_type": "stream",
     "text": [
      "현재 리스트: ['오렌지', '체리']\n",
      "체리가 리스트에 존재합니다.\n"
     ]
    }
   ],
   "source": [
    "#기본 실습 1-1\n",
    "my_list=[]\n",
    "\n",
    "#추가\n",
    "my_list.append(\"사과\")\n",
    "my_list.append(\"바나나\")\n",
    "my_list.append(\"체리\")\n",
    "\n",
    "#수정\n",
    "my_list[0]=\"오렌지\"\n",
    "\n",
    "#삭제\n",
    "my_list.remove(\"바나나\")\n",
    "\n",
    "#조회\n",
    "print(\"현재 리스트:\",my_list)\n",
    "\n",
    "#검색\n",
    "search_item = \"체리\"\n",
    "if search_item in my_list:\n",
    "    print(f\"{search_item}가 리스트에 존재합니다.\")\n",
    "else:\n",
    "    print(f\"{search_item}가 리스트에 없습니다.\")"
   ]
  },
  {
   "cell_type": "code",
   "execution_count": 39,
   "metadata": {},
   "outputs": [
    {
     "name": "stdout",
     "output_type": "stream",
     "text": [
      "3번째 요소: 오렌지\n",
      "배가 튜플이 존재하지 않습니다.\n"
     ]
    }
   ],
   "source": [
    "#기본 실습 2-1\n",
    "tuple = [\"사과\", \"바나나\", \"체리\", \"오렌지\", \"포도\"]\n",
    "\n",
    "#조회\n",
    "index=3\n",
    "print(f\"{index}번째 요소:\",tuple[index])\n",
    "\n",
    "#검색\n",
    "search_item = \"배\"\n",
    "if search_item in tuple:\n",
    "    print(f\"{search_item}가 튜플에 존재합니다.\")\n",
    "else:\n",
    "    print(f\"{search_item}가 튜플이 존재하지 않습니다.\")\n"
   ]
  },
  {
   "cell_type": "code",
   "execution_count": 51,
   "metadata": {},
   "outputs": [
    {
     "ename": "TypeError",
     "evalue": "'list' object is not callable",
     "output_type": "error",
     "traceback": [
      "\u001b[1;31m---------------------------------------------------------------------------\u001b[0m",
      "\u001b[1;31mTypeError\u001b[0m                                 Traceback (most recent call last)",
      "Cell \u001b[1;32mIn[51], line 3\u001b[0m\n\u001b[0;32m      1\u001b[0m \u001b[38;5;66;03m# 기본 실습 3-1\u001b[39;00m\n\u001b[0;32m      2\u001b[0m \u001b[38;5;66;03m# 빈 셋 생성 (set 변수 이름을 변경)\u001b[39;00m\n\u001b[1;32m----> 3\u001b[0m s \u001b[38;5;241m=\u001b[39m \u001b[38;5;28;43mset\u001b[39;49m\u001b[43m(\u001b[49m\u001b[43m)\u001b[49m\n\u001b[0;32m      5\u001b[0m \u001b[38;5;66;03m# 1. 사용자 입력 값 추가\u001b[39;00m\n\u001b[0;32m      6\u001b[0m add \u001b[38;5;241m=\u001b[39m \u001b[38;5;28minput\u001b[39m(\u001b[38;5;124m\"\u001b[39m\u001b[38;5;124m추가할 값을 입력하세요: \u001b[39m\u001b[38;5;124m\"\u001b[39m)\n",
      "\u001b[1;31mTypeError\u001b[0m: 'list' object is not callable"
     ]
    }
   ],
   "source": [
    "# 기본 실습 3-1\n",
    "# 빈 셋 생성 (set 변수 이름을 변경)\n",
    "s = set()\n",
    "\n",
    "# 1. 사용자 입력 값 추가\n",
    "add = input(\"추가할 값을 입력하세요: \")\n",
    "s.add(add)\n",
    "\n",
    "# 2. 특정 값 삭제\n",
    "remove = input(\"삭제할 값을 입력하세요: \")\n",
    "if remove in s:\n",
    "    s.remove(remove)\n",
    "else:\n",
    "    print(f\"{remove}는 셋에 존재하지 않습니다.\")\n",
    "\n",
    "# 3. 셋의 모든 요소 조회\n",
    "print(\"현재 세트:\", s)\n",
    "\n",
    "# 4. 특정 값이 셋에 있는지 검색\n",
    "search_item = input(\"검색할 값을 입력하세요: \")\n",
    "if search_item in s:\n",
    "    print(f\"{search_item}이 셋에 존재합니다.\")\n",
    "else:\n",
    "    print(f\"{search_item}이 셋에 존재하지 않습니다.\")\n",
    "\n"
   ]
  },
  {
   "cell_type": "code",
   "execution_count": 1,
   "metadata": {},
   "outputs": [
    {
     "name": "stdout",
     "output_type": "stream",
     "text": [
      "{1, 2, 3, 4, 5}\n",
      "{1, 2, 3, 4, 5, '100'}\n",
      "{1, 2, 4, 5, '100'}\n",
      "3이 셋에 존재하지 않습니다.\n"
     ]
    }
   ],
   "source": [
    "my_set = {1,2,3,4,5}\n",
    "print(f\"{my_set}\")\n",
    "my_set.add(\"100\")\n",
    "print(f\"{my_set}\")\n",
    "my_set.discard(3)\n",
    "print(f\"{my_set}\")\n",
    "search_item = input(\"검색할 값을 입력하세요: \")\n",
    "if search_item in my_set:\n",
    "    print(f\"{search_item}이 셋에 존재합니다.\")\n",
    "else:\n",
    "    print(f\"{search_item}이 셋에 존재하지 않습니다.\")"
   ]
  },
  {
   "cell_type": "code",
   "execution_count": 52,
   "metadata": {},
   "outputs": [
    {
     "name": "stdout",
     "output_type": "stream",
     "text": [
      "학생 목록 리스트: ['Dean', 'Tom', 'Chris']\n",
      "Dean이 목록에 존재합니다.\n"
     ]
    }
   ],
   "source": [
    "#응용 실습 1-1\n",
    "students=[]\n",
    "\n",
    "#추가\n",
    "students.append(\"Dean\")\n",
    "students.append(\"Tom\")\n",
    "students.append(\"James\")\n",
    "students.append(\"Chris\")\n",
    "\n",
    "#삭제\n",
    "students.remove(\"James\")\n",
    "\n",
    "#출력\n",
    "print(f\"학생 목록 리스트: {students}\")\n",
    "\n",
    "#조회\n",
    "search_student = \"Dean\"\n",
    "if search_student in students:\n",
    "    print(f\"{search_student}이 목록에 존재합니다.\")\n",
    "else:\n",
    "    print(f\"{search_student}이 목록에 존재하지 않습니다.\")"
   ]
  },
  {
   "cell_type": "code",
   "execution_count": 49,
   "metadata": {},
   "outputs": [
    {
     "name": "stdout",
     "output_type": "stream",
     "text": [
      "전체 상품 목록 조회: {'티셔츠': 12, '바지': 16}\n",
      "티셔츠의 재고: 12\n"
     ]
    }
   ],
   "source": [
    "#응용 실습 2-1\n",
    "inventory={}\n",
    "\n",
    "#상품 추가\n",
    "inventory[\"티셔츠\"] = 7\n",
    "inventory[\"바지\"] = 16\n",
    "inventory[\"자켓\"] = 23\n",
    "\n",
    "#특정 상품 재고 변경\n",
    "inventory[\"티셔츠\"] = 12\n",
    "\n",
    "#특정 상품 삭제\n",
    "del inventory[\"자켓\"]\n",
    "\n",
    "#전체 상품 목록 조회\n",
    "print(f\"전체 상품 목록 조회: {inventory}\")\n",
    "\n",
    "#특정 상품 검색\n",
    "search_inventory = \"티셔츠\"\n",
    "if search_inventory in inventory:\n",
    "    print(f\"{search_inventory}의 재고: {inventory[search_inventory]}\")\n",
    "else:\n",
    "    print(f\"{search_inventory}은 재고 목록에 없습니다.\")"
   ]
  },
  {
   "cell_type": "code",
   "execution_count": 58,
   "metadata": {},
   "outputs": [
    {
     "ename": "TypeError",
     "evalue": "'list' object is not callable",
     "output_type": "error",
     "traceback": [
      "\u001b[1;31m---------------------------------------------------------------------------\u001b[0m",
      "\u001b[1;31mTypeError\u001b[0m                                 Traceback (most recent call last)",
      "Cell \u001b[1;32mIn[58], line 6\u001b[0m\n\u001b[0;32m      3\u001b[0m my_list \u001b[38;5;241m=\u001b[39m [\u001b[38;5;241m1\u001b[39m, \u001b[38;5;241m2\u001b[39m, \u001b[38;5;241m2\u001b[39m, \u001b[38;5;241m3\u001b[39m, \u001b[38;5;241m4\u001b[39m, \u001b[38;5;241m4\u001b[39m, \u001b[38;5;241m5\u001b[39m, \u001b[38;5;241m5\u001b[39m, \u001b[38;5;241m6\u001b[39m]\n\u001b[0;32m      5\u001b[0m \u001b[38;5;66;03m# 셋을 이용하여 중복된 값을 제거하고 유일한 값만 저장\u001b[39;00m\n\u001b[1;32m----> 6\u001b[0m unique_values \u001b[38;5;241m=\u001b[39m \u001b[38;5;28;43mset\u001b[39;49m\u001b[43m(\u001b[49m\u001b[43mmy_list\u001b[49m\u001b[43m)\u001b[49m\n\u001b[0;32m      8\u001b[0m \u001b[38;5;66;03m# 유일한 값 출력\u001b[39;00m\n\u001b[0;32m      9\u001b[0m \u001b[38;5;28mprint\u001b[39m(\u001b[38;5;124m\"\u001b[39m\u001b[38;5;124m유일한 값들:\u001b[39m\u001b[38;5;124m\"\u001b[39m, unique_values)\n",
      "\u001b[1;31mTypeError\u001b[0m: 'list' object is not callable"
     ]
    }
   ],
   "source": [
    "#응용 실습 3-1\n",
    "# 중복된 값이 있는 리스트\n",
    "my_list = [1, 2, 2, 3, 4, 4, 5, 5, 6]\n",
    "\n",
    "# 셋을 이용하여 중복된 값을 제거하고 유일한 값만 저장\n",
    "unique_values = set(my_list)\n",
    "\n",
    "# 유일한 값 출력\n",
    "print(\"유일한 값들:\", unique_values)"
   ]
  },
  {
   "cell_type": "code",
   "execution_count": null,
   "metadata": {},
   "outputs": [],
   "source": [
    "#미니실습 #파이썬기초 #bigdata_with_python\n",
    "\n",
    "# 리스트, 셋, 튜플, 딕션너리 활용2\n",
    "\n",
    "# 콘솔에 입력 및 출력\n",
    "\n",
    "# 🔹 기본 실습 1: 리스트 관리 시스템\n",
    "# 문제:\n",
    "# 사용자가 메뉴를 선택하여 리스트에 데이터를\n",
    "# 추가, 수정, 삭제, 조회, 검색할 수 있도록 구현하세요.\n",
    "\n",
    "# 예시 화면 )\n",
    "# print(\"\\n🔹 리스트 관리 시스템 🔹\")\n",
    "# print(\"1. 추가\")\n",
    "# print(\"2. 수정\")\n",
    "# print(\"3. 삭제\")\n",
    "# print(\"4. 조회\")\n",
    "# print(\"5. 검색\")\n",
    "# print(\"6. 종료\")\n",
    "\n",
    "# choice = input(\"메뉴 선택: \")\n",
    "\n",
    "# 🔹 기본 실습 2: 딕셔너리(전화번호부) 관리 시스템\n",
    "# 문제:\n",
    "# 딕셔너리를 활용하여 전화번호부를 관리하는 프로그램을 구현하세요.\n",
    "# 사용자는 연락처를 추가, 수정, 삭제, 조회, 검색할 수 있어야 합니다.\n",
    "\n",
    "# 예시 화면 )\n",
    "\n",
    "# print(\"\\n🎓 학생 점수 관리 시스템 🎓\")\n",
    "# print(\"1. 추가\")\n",
    "# print(\"2. 수정\")\n",
    "# print(\"3. 삭제\")\n",
    "# print(\"4. 조회\")\n",
    "# print(\"5. 검색\")\n",
    "# print(\"6. 종료\")\n",
    "\n",
    "# choice = input(\"메뉴 선택: \")"
   ]
  },
  {
   "cell_type": "code",
   "execution_count": 59,
   "metadata": {},
   "outputs": [
    {
     "name": "stdout",
     "output_type": "stream",
     "text": [
      "가 메뉴에 존재하지 않습니다.\n",
      "잘못된 선택입니다. 다시 입력해주세요.\n",
      "가 메뉴에 존재하지 않습니다.\n",
      "잘못된 선택입니다. 다시 입력해주세요.\n",
      "가 메뉴에 존재하지 않습니다.\n",
      "잘못된 선택입니다. 다시 입력해주세요.\n",
      "가 메뉴에 존재하지 않습니다.\n",
      "잘못된 선택입니다. 다시 입력해주세요.\n",
      "1가 메뉴에 존재하지 않습니다.\n"
     ]
    },
    {
     "ename": "TypeError",
     "evalue": "'in <string>' requires string as left operand, not list",
     "output_type": "error",
     "traceback": [
      "\u001b[1;31m---------------------------------------------------------------------------\u001b[0m",
      "\u001b[1;31mTypeError\u001b[0m                                 Traceback (most recent call last)",
      "Cell \u001b[1;32mIn[59], line 59\u001b[0m\n\u001b[0;32m     57\u001b[0m     mod_menu()\n\u001b[0;32m     58\u001b[0m \u001b[38;5;28;01melif\u001b[39;00m choice \u001b[38;5;241m==\u001b[39m \u001b[38;5;124m'\u001b[39m\u001b[38;5;124m3\u001b[39m\u001b[38;5;124m'\u001b[39m:\n\u001b[1;32m---> 59\u001b[0m     \u001b[43mdel_menu\u001b[49m\u001b[43m(\u001b[49m\u001b[43m)\u001b[49m\n\u001b[0;32m     60\u001b[0m \u001b[38;5;28;01melif\u001b[39;00m choice \u001b[38;5;241m==\u001b[39m \u001b[38;5;124m'\u001b[39m\u001b[38;5;124m4\u001b[39m\u001b[38;5;124m'\u001b[39m:\n\u001b[0;32m     61\u001b[0m     view_menu()\n",
      "Cell \u001b[1;32mIn[59], line 32\u001b[0m, in \u001b[0;36mdel_menu\u001b[1;34m()\u001b[0m\n\u001b[0;32m     30\u001b[0m \u001b[38;5;28;01mdef\u001b[39;00m\u001b[38;5;250m \u001b[39m\u001b[38;5;21mdel_menu\u001b[39m():\n\u001b[0;32m     31\u001b[0m     item \u001b[38;5;241m=\u001b[39m \u001b[38;5;28minput\u001b[39m(\u001b[38;5;124m\"\u001b[39m\u001b[38;5;124m삭제할 메뉴를 입력하세요: \u001b[39m\u001b[38;5;124m\"\u001b[39m)\n\u001b[1;32m---> 32\u001b[0m     \u001b[38;5;28;01mif\u001b[39;00m \u001b[43mmy_list\u001b[49m\u001b[43m \u001b[49m\u001b[38;5;129;43;01min\u001b[39;49;00m\u001b[43m \u001b[49m\u001b[43mitem\u001b[49m:\n\u001b[0;32m     33\u001b[0m         my_list\u001b[38;5;241m.\u001b[39mremove(item)\n\u001b[0;32m     34\u001b[0m         \u001b[38;5;28mprint\u001b[39m(\u001b[38;5;124mf\u001b[39m\u001b[38;5;124m\"\u001b[39m\u001b[38;5;132;01m{\u001b[39;00mitem\u001b[38;5;132;01m}\u001b[39;00m\u001b[38;5;124m이 리스트에서 삭제되었습니다.\u001b[39m\u001b[38;5;124m\"\u001b[39m)\n",
      "\u001b[1;31mTypeError\u001b[0m: 'in <string>' requires string as left operand, not list"
     ]
    }
   ],
   "source": [
    "#기본 실습 2-1\n",
    "my_list=[]\n",
    "\n",
    "def menu():\n",
    "    print(\"\\n리스트 관리 시스템\")\n",
    "    print(\"1. 추가\")\n",
    "    print(\"2. 수정\")\n",
    "    print(\"3. 삭제\")\n",
    "    print(\"4. 조회\")\n",
    "    print(\"5. 검색\")\n",
    "    print(\"6. 종료\")\n",
    "\n",
    "#추가\n",
    "def add_menu():\n",
    "    item = input(\"추가할 메뉴를 입력하세요: \")\n",
    "    my_list.append(item)\n",
    "    print(f\"{item}이 리스트에 추가되었습니다.\")\n",
    "\n",
    "#수정\n",
    "def mod_menu():\n",
    "    index = int(input(\"수정할 인덱스의 값을 입력하세요(0부터 시작): \"))\n",
    "    if 0<=index<=len(my_list):\n",
    "        new_item = input(\"새로운 메뉴를 입력하세요: \")\n",
    "        my_list[index] = new_item\n",
    "        print(f\"인덱스 {index}의 항목이 '{new_item}'으로 변경되었습니다.\")\n",
    "    else:\n",
    "        print(\"유효한 인덱스 값을 입력하세요: \")\n",
    "\n",
    "#삭제\n",
    "def del_menu():\n",
    "    item = input(\"삭제할 메뉴를 입력하세요: \")\n",
    "    if my_list in item:\n",
    "        my_list.remove(item)\n",
    "        print(f\"{item}이 리스트에서 삭제되었습니다.\")\n",
    "    else:\n",
    "        print(f\"{item}이 리스트에 존재하지 않습니다.\")\n",
    "\n",
    "#조회\n",
    "def view_menu():\n",
    "    print(\"현재 리스트:\",my_list)\n",
    "\n",
    "#검색\n",
    "def search_menu():\n",
    "    search_menu = input(\"검색할 메뉴를 입력하세요: \")\n",
    "    if search_menu in my_list:\n",
    "        print(f\"{search_menu}가 메뉴에 존재합니다.\")\n",
    "    else:\n",
    "        print(f\"{search_menu}가 메뉴에 존재하지 않습니다.\")\n",
    "\n",
    "while True:\n",
    "    search_menu()\n",
    "    choice = input(\"메뉴 선택: \")\n",
    "\n",
    "    if choice == '1':\n",
    "        add_menu()\n",
    "    elif choice == '2':\n",
    "        mod_menu()\n",
    "    elif choice == '3':\n",
    "        del_menu()\n",
    "    elif choice == '4':\n",
    "        view_menu()\n",
    "    elif choice == '5':\n",
    "        search_menu()\n",
    "    elif choice == '6':\n",
    "        print(\"리스트 관리 시스템을 종료합니다.\")\n",
    "        break\n",
    "    else:\n",
    "        print(\"잘못된 선택입니다. 다시 입력해주세요.\")"
   ]
  },
  {
   "cell_type": "code",
   "execution_count": null,
   "metadata": {},
   "outputs": [],
   "source": [
    "# 전화번호부 관리 시스템 (딕셔너리 활용)\n",
    "\n",
    "# 빈 딕셔너리 생성\n",
    "phonebook = {}\n",
    "\n",
    "def display_menu():\n",
    "    print(\"\\n🎓 전화번호부 관리 시스템 🎓\")\n",
    "    print(\"1. 추가\")\n",
    "    print(\"2. 수정\")\n",
    "    print(\"3. 삭제\")\n",
    "    print(\"4. 조회\")\n",
    "    print(\"5. 검색\")\n",
    "    print(\"6. 종료\")\n",
    "\n",
    "def add_contact():\n",
    "    name = input(\"이름을 입력하세요: \")\n",
    "    phone = input(\"전화번호를 입력하세요: \")\n",
    "    phonebook[name] = phone\n",
    "    print(f\"'{name}'의 연락처가 추가되었습니다.\")\n",
    "\n",
    "def modify_contact():\n",
    "    name = input(\"수정할 이름을 입력하세요: \")\n",
    "    if name in phonebook:\n",
    "        new_phone = input(f\"{name}의 새로운 전화번호를 입력하세요: \")\n",
    "        phonebook[name] = new_phone\n",
    "        print(f\"'{name}'의 전화번호가 '{new_phone}'로 수정되었습니다.\")\n",
    "    else:\n",
    "        print(f\"'{name}'은 전화번호부에 존재하지 않습니다.\")\n",
    "\n",
    "def delete_contact():\n",
    "    name = input(\"삭제할 이름을 입력하세요: \")\n",
    "    if name in phonebook:\n",
    "        del phonebook[name]\n",
    "        print(f\"'{name}'의 연락처가 삭제되었습니다.\")\n",
    "    else:\n",
    "        print(f\"'{name}'은 전화번호부에 존재하지 않습니다.\")\n",
    "\n",
    "def view_contacts():\n",
    "    if phonebook:\n",
    "        print(\"\\n📞 전화번호부 📞\")\n",
    "        for name, phone in phonebook.items():\n",
    "            print(f\"{name}: {phone}\")\n",
    "    else:\n",
    "        print(\"전화번호부에 등록된 연락처가 없습니다.\")\n",
    "\n",
    "def search_contact():\n",
    "    name = input(\"검색할 이름을 입력하세요: \")\n",
    "    if name in phonebook:\n",
    "        print(f\"{name}의 전화번호: {phonebook[name]}\")\n",
    "    else:\n",
    "        print(f\"'{name}'은 전화번호부에 존재하지 않습니다.\")\n",
    "\n",
    "while True:\n",
    "    display_menu()\n",
    "    choice = input(\"메뉴 선택: \")\n",
    "\n",
    "    if choice == '1':\n",
    "        add_contact()\n",
    "    elif choice == '2':\n",
    "        modify_contact()\n",
    "    elif choice == '3':\n",
    "        delete_contact()\n",
    "    elif choice == '4':\n",
    "        view_contacts()\n",
    "    elif choice == '5':\n",
    "        search_contact()\n",
    "    elif choice == '6':\n",
    "        print(\"전화번호부 관리 시스템을 종료합니다.\")\n",
    "        break\n",
    "    else:\n",
    "        print(\"잘못된 선택입니다. 다시 입력해주세요.\")\n"
   ]
  }
 ],
 "metadata": {
  "kernelspec": {
   "display_name": "Python 3",
   "language": "python",
   "name": "python3"
  },
  "language_info": {
   "codemirror_mode": {
    "name": "ipython",
    "version": 3
   },
   "file_extension": ".py",
   "mimetype": "text/x-python",
   "name": "python",
   "nbconvert_exporter": "python",
   "pygments_lexer": "ipython3",
   "version": "3.13.2"
  }
 },
 "nbformat": 4,
 "nbformat_minor": 2
}
