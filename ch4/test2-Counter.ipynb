{
 "cells": [
  {
   "cell_type": "code",
   "execution_count": 1,
   "metadata": {},
   "outputs": [
    {
     "name": "stdout",
     "output_type": "stream",
     "text": [
      "yesterday_lyric의 내용 출력 부분 : ['Yesterday all my troubles seemed so far away\\n', \"Now it looks as though they're here to stay\\n\", 'Oh, I believe in yesterday\\n', \"Suddenly I'm not half the man I used to be\\n\", \"There's a shadow hanging over me\\n\", 'Oh, yesterday came suddenly.\\n', \"Why she had to go I don't know,\\n\", \"she wouldn't say.\\n\", 'I said something wrong\\n', 'now I long for yesterday.\\n', 'Yesterday love was such an easy game to play\\n', 'Now I need a place to hide away\\n', 'Oh, I believe in yesterday\\n', \"Why she had to go I don't know\\n\", \"she wouldn't say\\n\", 'I said something wrong\\n', 'now I long for yesterday\\n', 'Yesterday love was such an easy game to play\\n', 'Now I need a place to hide away\\n', 'Oh, I believe in yesterday']\n",
      "contents의 내용이 궁금 하면 반복문 다 종료후 : Yesterday all my troubles seemed so far away\n",
      "Now it looks as though they're here to stay\n",
      "Oh, I believe in yesterday\n",
      "Suddenly I'm not half the man I used to be\n",
      "There's a shadow hanging over me\n",
      "Oh, yesterday came suddenly.\n",
      "Why she had to go I don't know,\n",
      "she wouldn't say.\n",
      "I said something wrong\n",
      "now I long for yesterday.\n",
      "Yesterday love was such an easy game to play\n",
      "Now I need a place to hide away\n",
      "Oh, I believe in yesterday\n",
      "Why she had to go I don't know\n",
      "she wouldn't say\n",
      "I said something wrong\n",
      "now I long for yesterday\n",
      "Yesterday love was such an easy game to play\n",
      "Now I need a place to hide away\n",
      "Oh, I believe in yesterday\n",
      "\n",
      "가사 중에 yesterday 를 대문자로 변환 후 갯수 찾은 결과: 9\n"
     ]
    }
   ],
   "source": [
    "# 파일 입출력에서, 가사 문서를 입력해서(인코딩 타입: utf-8)\n",
    "# 메모리상에 f 인스턴스에 있음.\n",
    "f = open(\"./yesterday.txt\", 'r', encoding='utf-8')\n",
    "\n",
    "# f 인스턴스에 들어 있는 문장들을 ,readlines 함수를 이용해서, 한번에 다 읽고.\n",
    "yesterday_lyric = f.readlines()\n",
    "# 파일의 내용을 잘 읽었는지 확인 하는 부분.\n",
    "print(f\"yesterday_lyric의 내용 출력 부분 : {yesterday_lyric}\")\n",
    "# 파일을 잘 읽어서, yesterday_lyric 담아서, 해당 인스턴스를 반납.\n",
    "f.close()\n",
    "\n",
    "# contents : 임시 문자열 변수에\n",
    "contents = \"\"\n",
    "# 반복문으로 가사 중에서, 한 라인씩 읽어서\n",
    "# 공백 제거하고 한줄을 contents 붙이는 반복작업\n",
    "for line in yesterday_lyric:\n",
    "  contents = contents + line.strip() + \"\\n\"\n",
    "# 디버깅으로 하나씩 출력 부분으로 보여드리고, 확인.\n",
    "# print(f\"contents의 내용이 궁금 하면 반복문 안의 내용 : {contents}\")\n",
    "print(f\"contents의 내용이 궁금 하면 반복문 다 종료후 : {contents}\")\n",
    "# contents 에서 YESTERDAY 갯수를 다 찾음.\n",
    "result = contents.upper().count(\"YESTERDAY\")\n",
    "print(f\"가사 중에 yesterday 를 대문자로 변환 후 갯수 찾은 결과: {result}\")"
   ]
  },
  {
   "cell_type": "code",
   "execution_count": 3,
   "metadata": {},
   "outputs": [
    {
     "name": "stdout",
     "output_type": "stream",
     "text": [
      "Counter 사용 전\n",
      "['yesterday', 'all', 'my', 'troubles', 'seemed', 'so', 'far', 'away', 'now', 'it', 'looks', 'as', 'though', \"they're\", 'here', 'to', 'stay', 'oh,', 'i', 'believe', 'in', 'yesterday', 'suddenly', \"i'm\", 'not', 'half', 'the', 'man', 'i', 'used', 'to', 'be', \"there's\", 'a', 'shadow', 'hanging', 'over', 'me', 'oh,', 'yesterday', 'came', 'suddenly.', 'why', 'she', 'had', 'to', 'go', 'i', \"don't\", 'know,', 'she', \"wouldn't\", 'say.', 'i', 'said', 'something', 'wrong', 'now', 'i', 'long', 'for', 'yesterday.', 'yesterday', 'love', 'was', 'such', 'an', 'easy', 'game', 'to', 'play', 'now', 'i', 'need', 'a', 'place', 'to', 'hide', 'away', 'oh,', 'i', 'believe', 'in', 'yesterday', 'why', 'she', 'had', 'to', 'go', 'i', \"don't\", 'know', 'she', \"wouldn't\", 'say', 'i', 'said', 'something', 'wrong', 'now', 'i', 'long', 'for', 'yesterday', 'yesterday', 'love', 'was', 'such', 'an', 'easy', 'game', 'to', 'play', 'now', 'i', 'need', 'a', 'place', 'to', 'hide', 'away', 'oh,', 'i', 'believe', 'in', 'yesterday']\n",
      "Counter 모듈을 이용해서 빈도 구해보기\n",
      "Counter 사용 전\n",
      "Counter({'i': 12, 'yesterday': 8, 'to': 8, 'now': 5, 'oh,': 4, 'she': 4, 'away': 3, 'believe': 3, 'in': 3, 'a': 3, 'why': 2, 'had': 2, 'go': 2, \"don't\": 2, \"wouldn't\": 2, 'said': 2, 'something': 2, 'wrong': 2, 'long': 2, 'for': 2, 'love': 2, 'was': 2, 'such': 2, 'an': 2, 'easy': 2, 'game': 2, 'play': 2, 'need': 2, 'place': 2, 'hide': 2, 'all': 1, 'my': 1, 'troubles': 1, 'seemed': 1, 'so': 1, 'far': 1, 'it': 1, 'looks': 1, 'as': 1, 'though': 1, \"they're\": 1, 'here': 1, 'stay': 1, 'suddenly': 1, \"i'm\": 1, 'not': 1, 'half': 1, 'the': 1, 'man': 1, 'used': 1, 'be': 1, \"there's\": 1, 'shadow': 1, 'hanging': 1, 'over': 1, 'me': 1, 'came': 1, 'suddenly.': 1, 'know,': 1, 'say.': 1, 'yesterday.': 1, 'know': 1, 'say': 1})\n"
     ]
    }
   ],
   "source": [
    "from collections import Counter\n",
    "text = \"\"\"Yesterday all my troubles seemed so far away\n",
    "Now it looks as though they're here to stay\n",
    "Oh, I believe in yesterday\n",
    "Suddenly I'm not half the man I used to be\n",
    "There's a shadow hanging over me\n",
    "Oh, yesterday came suddenly.\n",
    "Why she had to go I don't know,\n",
    "she wouldn't say.\n",
    "I said something wrong\n",
    "now I long for yesterday.\n",
    "Yesterday love was such an easy game to play\n",
    "Now I need a place to hide away\n",
    "Oh, I believe in yesterday\n",
    "Why she had to go I don't know\n",
    "she wouldn't say\n",
    "I said something wrong\n",
    "now I long for yesterday\n",
    "Yesterday love was such an easy game to play\n",
    "Now I need a place to hide away\n",
    "Oh, I believe in yesterday\"\"\".lower().split()\n",
    "print(\"Counter 사용 전\")\n",
    "print(text)\n",
    "print(\"Counter 모듈을 이용해서 빈도 구해보기\")\n",
    "print(\"Counter 사용 전\")\n",
    "print(Counter(text))"
   ]
  }
 ],
 "metadata": {
  "kernelspec": {
   "display_name": "Python 3",
   "language": "python",
   "name": "python3"
  },
  "language_info": {
   "codemirror_mode": {
    "name": "ipython",
    "version": 3
   },
   "file_extension": ".py",
   "mimetype": "text/x-python",
   "name": "python",
   "nbconvert_exporter": "python",
   "pygments_lexer": "ipython3",
   "version": "3.13.2"
  }
 },
 "nbformat": 4,
 "nbformat_minor": 2
}
