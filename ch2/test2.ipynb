{
 "cells": [
  {
   "cell_type": "code",
   "execution_count": 1,
   "metadata": {},
   "outputs": [
    {
     "name": "stdout",
     "output_type": "stream",
     "text": [
      "쥬피터 노트북 버전 으로 해보기\n"
     ]
    }
   ],
   "source": [
    "print('쥬피터 노트북 버전 으로 해보기')"
   ]
  },
  {
   "cell_type": "code",
   "execution_count": 2,
   "metadata": {},
   "outputs": [
    {
     "name": "stdout",
     "output_type": "stream",
     "text": [
      "작업중\n"
     ]
    }
   ],
   "source": [
    "print(\"작업중\")"
   ]
  },
  {
   "cell_type": "code",
   "execution_count": 1,
   "metadata": {},
   "outputs": [
    {
     "name": "stdout",
     "output_type": "stream",
     "text": [
      "10\n",
      "10.0\n"
     ]
    }
   ],
   "source": [
    "a=int(10.3)\n",
    "print(a)\n",
    "b=float(a)\n",
    "print(b)"
   ]
  },
  {
   "cell_type": "code",
   "execution_count": 3,
   "metadata": {},
   "outputs": [
    {
     "name": "stdout",
     "output_type": "stream",
     "text": [
      "True\n",
      "False\n"
     ]
    }
   ],
   "source": [
    "print(1==True)\n",
    "print(\"\"==False)"
   ]
  },
  {
   "cell_type": "code",
   "execution_count": 4,
   "metadata": {},
   "outputs": [
    {
     "name": "stdout",
     "output_type": "stream",
     "text": [
      "123\n",
      "<class 'str'>\n"
     ]
    }
   ],
   "source": [
    "x=str(123)\n",
    "print(x)\n",
    "print(type(x))"
   ]
  },
  {
   "cell_type": "code",
   "execution_count": 6,
   "metadata": {},
   "outputs": [
    {
     "name": "stdout",
     "output_type": "stream",
     "text": [
      "오늘 점심 메뉴는? 국밥\n"
     ]
    }
   ],
   "source": [
    "lunch = \"국밥\"\n",
    "print(f\"오늘 점심 메뉴는? {lunch}\")"
   ]
  },
  {
   "cell_type": "code",
   "execution_count": 10,
   "metadata": {},
   "outputs": [
    {
     "name": "stdout",
     "output_type": "stream",
     "text": [
      "[1, 2, 3, 100]\n",
      "[1, 2, 3, 100, 4, 5, 6]\n"
     ]
    }
   ],
   "source": [
    "a = [1,2,3]\n",
    "b = [4,5,6]\n",
    "a.append(100)\n",
    "print(a)\n",
    "a.extend(b)\n",
    "print(a)\n",
    "# print(f\"c 리스트 모양: {c}\")\n",
    "# print(c)\n",
    "# print(f\"d 리스트 모양: {d}\")\n",
    "# print(d)"
   ]
  },
  {
   "cell_type": "code",
   "execution_count": 13,
   "metadata": {},
   "outputs": [
    {
     "name": "stdout",
     "output_type": "stream",
     "text": [
      "[1, 100, 2, 3]\n",
      "[1, 100, 3]\n"
     ]
    }
   ],
   "source": [
    "a = [1,2,3]\n",
    "a.insert(1,100)\n",
    "print(a)\n",
    "a.remove(2)\n",
    "print(a)"
   ]
  },
  {
   "cell_type": "code",
   "execution_count": 14,
   "metadata": {},
   "outputs": [
    {
     "name": "stdout",
     "output_type": "stream",
     "text": [
      "거짓\n"
     ]
    }
   ],
   "source": [
    "if 3>4:\n",
    "    print(\"참\")\n",
    "else:\n",
    "    print(\"거짓\")"
   ]
  },
  {
   "cell_type": "code",
   "execution_count": 16,
   "metadata": {},
   "outputs": [
    {
     "name": "stdout",
     "output_type": "stream",
     "text": [
      "0\n",
      "2\n",
      "4\n",
      "6\n",
      "8\n"
     ]
    }
   ],
   "source": [
    "for i in range(0,10,2):\n",
    "    print(i)"
   ]
  },
  {
   "cell_type": "code",
   "execution_count": null,
   "metadata": {},
   "outputs": [
    {
     "name": "stdout",
     "output_type": "stream",
     "text": [
      "7은(는) 홀수입니다.\n"
     ]
    }
   ],
   "source": [
    "a=int(input(\"숫자를 입력하세요:\"))\n",
    "if a%2==0:\n",
    "    print(f\"{a}은(는) 짝수입니다.\")\n",
    "else:\n",
    "    print(f\"{a}은(는) 홀수입니다.\")"
   ]
  },
  {
   "cell_type": "code",
   "execution_count": 24,
   "metadata": {},
   "outputs": [
    {
     "name": "stdout",
     "output_type": "stream",
     "text": [
      "1부터 10까지의 합: 55\n"
     ]
    }
   ],
   "source": [
    "n=int(input(\"n을 입력하세요:\"))\n",
    "for i in range(1,11,n):\n",
    "    print(f\"1부터 10까지의 합: {sum(range(1,11))}\")"
   ]
  },
  {
   "cell_type": "code",
   "execution_count": 30,
   "metadata": {},
   "outputs": [
    {
     "name": "stdout",
     "output_type": "stream",
     "text": [
      "9\n",
      "9\n",
      "최대값: 9\n",
      "최대값: 9\n"
     ]
    }
   ],
   "source": [
    "numbers1 = [\"3\",\"7\",\"2\",\"9\",\"4\"]\n",
    "numbers2 = input().split()\n",
    "int_numbers1 = list(map(int,numbers1))\n",
    "int_numbers2 = list(map(int,numbers2))\n",
    "print(max(int_numbers1))\n",
    "print(max(int_numbers2))\n",
    "print(f\"최대값: {max(int_numbers1)}\")\n",
    "print(f\"최대값: {max(int_numbers2)}\")"
   ]
  },
  {
   "cell_type": "code",
   "execution_count": 67,
   "metadata": {},
   "outputs": [
    {
     "name": "stdout",
     "output_type": "stream",
     "text": [
      "최댓값: 9\n"
     ]
    }
   ],
   "source": [
    "# 사용자 입력 받기\n",
    "numbers = input(\"공백으로 구분하여 숫자 입력: \")\n",
    "\n",
    "# 입력된 문자열을 정수 리스트로 변환\n",
    "num_list = list(map(int, numbers.split()))\n",
    "\n",
    "# 최댓값 찾기\n",
    "max_value = max(num_list)\n",
    "\n",
    "# 결과 출력\n",
    "print(f\"최댓값: {max_value}\")"
   ]
  },
  {
   "cell_type": "code",
   "execution_count": 40,
   "metadata": {},
   "outputs": [
    {
     "name": "stdout",
     "output_type": "stream",
     "text": [
      "문자 'a'는 3번 등장합니다.\n"
     ]
    }
   ],
   "source": [
    "a=input(\"문자열 입력: \")\n",
    "b=input(\"찾을 문자 입력: \")\n",
    "count=a.count(b)\n",
    "print(f\"문자 '{b}'는 {count}번 등장합니다.\")"
   ]
  },
  {
   "cell_type": "code",
   "execution_count": 60,
   "metadata": {},
   "outputs": [
    {
     "name": "stdout",
     "output_type": "stream",
     "text": [
      "중복 제거 후 정렬된 리스트: [1, 3, 5, 7, 8]\n"
     ]
    }
   ],
   "source": [
    "a=list(map(int,input(\"공백으로 구분하여 숫자 입력:\").split()))\n",
    "print(f\"중복 제거 후 정렬된 리스트: {sorted(set(a))}\")\n",
    "# sorted_list = sorted(set(a))\n",
    "# print(f\"중복 제거 후 정렬된 리스트: {sorted_list}\")"
   ]
  },
  {
   "cell_type": "code",
   "execution_count": 70,
   "metadata": {},
   "outputs": [
    {
     "name": "stdout",
     "output_type": "stream",
     "text": [
      "\n",
      "3단:\n",
      "3 x 1 = 3\n",
      "3 x 2 = 6\n",
      "3 x 3 = 9\n",
      "3 x 4 = 12\n",
      "3 x 5 = 15\n",
      "3 x 6 = 18\n",
      "3 x 7 = 21\n",
      "3 x 8 = 24\n",
      "3 x 9 = 27\n",
      "\n",
      "4단:\n",
      "4 x 1 = 4\n",
      "4 x 2 = 8\n",
      "4 x 3 = 12\n",
      "4 x 4 = 16\n",
      "4 x 5 = 20\n",
      "4 x 6 = 24\n",
      "4 x 7 = 28\n",
      "4 x 8 = 32\n",
      "4 x 9 = 36\n",
      "\n",
      "5단:\n",
      "5 x 1 = 5\n",
      "5 x 2 = 10\n",
      "5 x 3 = 15\n",
      "5 x 4 = 20\n",
      "5 x 5 = 25\n",
      "5 x 6 = 30\n",
      "5 x 7 = 35\n",
      "5 x 8 = 40\n",
      "5 x 9 = 45\n",
      "\n"
     ]
    }
   ],
   "source": [
    "start = int(input(\"시작 단 입력: \"))\n",
    "end = int(input(\"끝 단 입력: \"))\n",
    "\n",
    "for dan in range(start, end + 1):\n",
    "    print(f\"\\n{dan}단:\")\n",
    "    for i in range(1, 10):\n",
    "        print(f\"{dan} x {i} = {dan * i}\")\n",
    "print()"
   ]
  },
  {
   "cell_type": "code",
   "execution_count": null,
   "metadata": {},
   "outputs": [],
   "source": []
  }
 ],
 "metadata": {
  "kernelspec": {
   "display_name": "Python 3",
   "language": "python",
   "name": "python3"
  },
  "language_info": {
   "codemirror_mode": {
    "name": "ipython",
    "version": 3
   },
   "file_extension": ".py",
   "mimetype": "text/x-python",
   "name": "python",
   "nbconvert_exporter": "python",
   "pygments_lexer": "ipython3",
   "version": "3.13.2"
  }
 },
 "nbformat": 4,
 "nbformat_minor": 2
}
