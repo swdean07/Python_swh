{
 "cells": [
  {
   "cell_type": "code",
   "execution_count": 1,
   "metadata": {},
   "outputs": [
    {
     "name": "stdout",
     "output_type": "stream",
     "text": [
      "말하기\n"
     ]
    }
   ],
   "source": [
    "class Animal:\n",
    "    def __init__(self, name, age):\n",
    "        self.name = name\n",
    "        self.age = age\n",
    "    def speak(self):\n",
    "        print(\"말하기\")\n",
    "\n",
    "puppy = Animal(\"puppy\", 20)\n",
    "puppy.speak()"
   ]
  },
  {
   "cell_type": "code",
   "execution_count": 2,
   "metadata": {},
   "outputs": [
    {
     "name": "stdout",
     "output_type": "stream",
     "text": [
      "멍멍\n",
      "좋아하는 음식: 껌\n"
     ]
    }
   ],
   "source": [
    "class Dog(Animal):\n",
    "    def __init__(self, name, age, favorite_food):\n",
    "        super().__init__(name, age)\n",
    "        self.favorite_food = favorite_food\n",
    "    def speak(self):\n",
    "        print(\"멍멍\")\n",
    "    def show_food(self):\n",
    "        print(f\"좋아하는 음식: {self.favorite_food}\")\n",
    "puppy = Dog(\"puppy\", 20, \"껌\")\n",
    "puppy.speak()\n",
    "puppy.show_food()"
   ]
  },
  {
   "cell_type": "code",
   "execution_count": 3,
   "metadata": {},
   "outputs": [
    {
     "name": "stdout",
     "output_type": "stream",
     "text": [
      "멍멍\n",
      "좋아하는 음식: 껌\n",
      "좋아하는 음식: 껌\n"
     ]
    }
   ],
   "source": [
    "class Dog(Animal):\n",
    "    def __init__(self, name, age, favorite_food, friend_list):\n",
    "        super().__init__(name, age)\n",
    "        self.favorite_food = favorite_food\n",
    "        self.__friend_list = friend_list\n",
    "    def add_friend(self, friend):\n",
    "        self.__friend_list.append(friend)\n",
    "    def get_friends(self):\n",
    "        return self.__friend_list\n",
    "    def speak(self):\n",
    "        print(\"멍멍\")\n",
    "    def show_food(self):\n",
    "        print(f\"좋아하는 음식: {self.favorite_food}\")\n",
    "puppy = Dog(\"puppy\", 20, \"껌\", [\"puppy2\", \"puppy3\"])\n",
    "puppy.speak()\n",
    "puppy.show_food()\n",
    "puppy.show_food()\n",
    "puppy.get_friends()\n",
    "puppy.add_friend(\"puppy\")"
   ]
  },
  {
   "cell_type": "code",
   "execution_count": 4,
   "metadata": {},
   "outputs": [
    {
     "name": "stdout",
     "output_type": "stream",
     "text": [
      "이름: 철수\n",
      "나이: 25\n",
      "안녕하세요, 저는 철수이고 25살입니다.\n"
     ]
    }
   ],
   "source": [
    "# 🔹 기본 실습 1: 클래스와 객체 생성\n",
    "#\n",
    "# 문제:\n",
    "# 클래스를 정의하고, 이를 사용하여 객체를 생성한 후, 해당 객체의 속성을 출력하세요.\n",
    "#\n",
    "# 클래스 : Person,\n",
    "# 속성: name, age\n",
    "# 메서드 : introduce\n",
    "# 안녕하세요, 저는 철수이고 25살입니다.\n",
    "\n",
    "class Person:\n",
    "    def __init__(self, name, age):\n",
    "        self.name = name\n",
    "        self.age = age\n",
    "\n",
    "    def introduce(self):\n",
    "        print(f\"안녕하세요, 저는 {self.name}이고 {self.age}살입니다.\")\n",
    "\n",
    "#객체 생성\n",
    "person = Person(\"철수\", 25)\n",
    "\n",
    "#속성 출력\n",
    "print(f\"이름: {person.name}\")\n",
    "print(f\"나이: {person.age}\")\n",
    "\n",
    "#메서드 호출\n",
    "person.introduce()"
   ]
  },
  {
   "cell_type": "code",
   "execution_count": 5,
   "metadata": {},
   "outputs": [
    {
     "name": "stdout",
     "output_type": "stream",
     "text": [
      "뚜비 (2살) 소리: 멍멍!\n",
      "나비 (3살) 소리: 야옹!\n"
     ]
    }
   ],
   "source": [
    "# 🔹 기본 실습 2: 상속과 메서드 오버라이딩\n",
    "# 문제:\n",
    "# 부모 클래스 Animal 를 상속받아 새로운 클래스 Dog , Cat를 만들고,\n",
    "# 메서드 sound 를 오버라이딩하여 다르게 동작하도록 구현하세요.\n",
    "\n",
    "class Animal:\n",
    "    def __init__(self, name, age):\n",
    "        self.name = name\n",
    "        self.age = age\n",
    "\n",
    "    def sound(self):\n",
    "        return \"동물 소리\"\n",
    "\n",
    "# Dog 클래스 (Animal 상속)\n",
    "class Dog(Animal):\n",
    "    def sound(self):\n",
    "        return \"멍멍!\"\n",
    "\n",
    "# Cat 클래스 (Animal 상속)\n",
    "class Cat(Animal):\n",
    "    def sound(self):\n",
    "        return \"야옹!\"\n",
    "\n",
    "# 객체 생성 및 메서드 호출\n",
    "dog = Dog(\"뚜비\", 2)\n",
    "cat = Cat(\"나비\", 3)\n",
    "\n",
    "print(f\"{dog.name} ({dog.age}살) 소리: {dog.sound()}\")\n",
    "print(f\"{cat.name} ({cat.age}살) 소리: {cat.sound()}\")"
   ]
  },
  {
   "cell_type": "code",
   "execution_count": 6,
   "metadata": {},
   "outputs": [
    {
     "name": "stdout",
     "output_type": "stream",
     "text": [
      "안녕하세요, 저는 뚜비이고 2살입니다. 소리: 멍멍!\n",
      "안녕하세요, 저는 나비이고 3살입니다. 소리: 야옹!\n"
     ]
    }
   ],
   "source": [
    "# 🔹 기본 실습 2: 상속과 메서드 오버라이딩\n",
    "# 문제:\n",
    "# 부모 클래스 Animal 를 상속받아 새로운 클래스 Dog , Cat를 만들고,\n",
    "# 메서드 sound 를 오버라이딩하여 다르게 동작하도록 구현하세요.\n",
    "\n",
    "class Animal:\n",
    "    def __init__(self, name, age):\n",
    "        self.name = name\n",
    "        self.age = age\n",
    "\n",
    "    def sound(self):\n",
    "        return \"동물 소리\"\n",
    "\n",
    "    def introduce(self):\n",
    "        return f\"안녕하세요, 저는 {self.name}이고 {self.age}살입니다.\"\n",
    "\n",
    "# Dog 클래스 (Animal 상속)\n",
    "class Dog(Animal):\n",
    "    def sound(self):\n",
    "        return \"멍멍!\"\n",
    "\n",
    "# Cat 클래스 (Animal 상속)\n",
    "class Cat(Animal):\n",
    "    def sound(self):\n",
    "        return \"야옹!\"\n",
    "\n",
    "# 객체 생성 및 메서드 호출\n",
    "dog = Dog(\"뚜비\", 2)\n",
    "cat = Cat(\"나비\", 3)\n",
    "\n",
    "print(dog.introduce() + f\" 소리: {dog.sound()}\")\n",
    "print(cat.introduce() + f\" 소리: {cat.sound()}\")"
   ]
  },
  {
   "cell_type": "code",
   "execution_count": 7,
   "metadata": {},
   "outputs": [
    {
     "name": "stdout",
     "output_type": "stream",
     "text": [
      "현재 잔액: 10000원\n",
      "5000원이 입금되었습니다. 현재 잔액: 15000원\n",
      "3000원이 출금되었습니다. 현재 잔액: 12000원\n"
     ]
    }
   ],
   "source": [
    "# 🔹 기본 실습 3: 캡슐화 (가시성 제어)\n",
    "# 문제:\n",
    "# 클래스 BankAccount 에서 속성 owner, balance을 (__balance) private으로 선언하고,\n",
    "# 이를 접근하는 getter(get_balance) 및 setter(deposit) 메서드를 구현하세요.\n",
    "\n",
    "class BankAccount:\n",
    "    def __init__(self, owner, balance):\n",
    "        self.owner = owner\n",
    "        self.__balance = balance  # Private 속성\n",
    "\n",
    "    # Getter 메서드 (잔액 조회)\n",
    "    def get_balance(self):\n",
    "        return self.__balance\n",
    "\n",
    "    # Setter 메서드 (입금)\n",
    "    def deposit(self, amount):\n",
    "        if amount > 0:\n",
    "            self.__balance += amount\n",
    "            print(f\"{amount}원이 입금되었습니다. 현재 잔액: {self.__balance}원\")\n",
    "        else:\n",
    "            print(\"입금액은 0보다 커야 합니다.\")\n",
    "\n",
    "    # 출금 메서드 추가\n",
    "    def withdraw(self, amount):\n",
    "        if 0 < amount <= self.__balance:\n",
    "            self.__balance -= amount\n",
    "            print(f\"{amount}원이 출금되었습니다. 현재 잔액: {self.__balance}원\")\n",
    "        else:\n",
    "            print(\"출금할 수 없습니다. 잔액을 확인하세요.\")\n",
    "\n",
    "# 객체 생성\n",
    "account = BankAccount(\"김민재\", 10000)\n",
    "\n",
    "# 잔액 조회\n",
    "print(f\"현재 잔액: {account.get_balance()}원\")\n",
    "\n",
    "# 입금\n",
    "account.deposit(5000)\n",
    "\n",
    "# 출금\n",
    "account.withdraw(3000)\n",
    "\n",
    "# 직접 접근 시도 (오류 발생)\n",
    "# print(account.__balance)  # AttributeError 발생"
   ]
  },
  {
   "cell_type": "code",
   "execution_count": 8,
   "metadata": {},
   "outputs": [
    {
     "name": "stdout",
     "output_type": "stream",
     "text": [
      "이름: 손흥민, 직급: 매니저, 급여: 5000000원\n",
      "이름: 김민재, 직급: 개발자, 급여: 4000000원\n"
     ]
    }
   ],
   "source": [
    "# 🔹 응용 실습 1: 직원 관리 시스템 (클래스 및 인스턴스 활용)\n",
    "# 문제:\n",
    "# Employee 클래스를 만들고,\n",
    "# 직원 정보( name, position, salary)를 저장 및 출력(get_info)하는 프로그램을 작성하세요.\n",
    "\n",
    "class Person:\n",
    "    def __init__(self, name):\n",
    "        self.name = name\n",
    "\n",
    "class Employee(Person):\n",
    "    def __init__(self, name, position, salary):\n",
    "        super().__init__(name)\n",
    "        self.position = position\n",
    "        self.salary = salary\n",
    "\n",
    "    def get_info(self):\n",
    "        return f\"이름: {self.name}, 직급: {self.position}, 급여: {self.salary}원\"\n",
    "\n",
    "#객체 생성\n",
    "emp1 = Employee(\"손흥민\",\"매니저\",5000000)\n",
    "emp2 = Employee(\"김민재\",\"개발자\",4000000)\n",
    "\n",
    "#직원 정보 출력\n",
    "print(emp1.get_info())\n",
    "print(emp2.get_info())"
   ]
  },
  {
   "cell_type": "code",
   "execution_count": 11,
   "metadata": {},
   "outputs": [
    {
     "name": "stdout",
     "output_type": "stream",
     "text": [
      "전자책 제목: 파이썬 마스터, 저자: 홍길동, 파일 크기: 5MB\n",
      "종이책 제목: 자바의 정석, 저자: 남궁성, 페이지: 800쪽\n"
     ]
    }
   ],
   "source": [
    "# 🔹 응용 실습 2: 도서 관리 시스템 (상속 및 다형성 활용)\n",
    "# 문제:\n",
    "# 도서 Book , 전자책 EBook, 종이책 PaperBook 클래스를 구현하고,\n",
    "# display_info() 메서드를 다형성을 적용하여 다르게 동작하도록 만드세요.\n",
    "\n",
    "class Book:\n",
    "    def __init__(self, title, author):\n",
    "        self.title = title\n",
    "        self.author = author\n",
    "\n",
    "    def display_info(self):\n",
    "        return f\"도서 제목: {self.title}, 저자: {self.author}\"\n",
    "\n",
    "#전자책 클래스\n",
    "class EBook(Book):\n",
    "    def __init__(self, title, author, file_size):\n",
    "        super().__init__(title, author)\n",
    "        self.title = title\n",
    "        self.author = author\n",
    "        self.file_size = file_size\n",
    "\n",
    "    def display_info(self):\n",
    "        return f\"전자책 제목: {self.title}, 저자: {self.author}, 파일 크기: {self.file_size}MB\"\n",
    "\n",
    "#종이책 클래스\n",
    "class PaperBook(Book):\n",
    "    def __init__(self, title, author, page):\n",
    "        super().__init__(title, author)\n",
    "        self.title = title\n",
    "        self.author = author\n",
    "        self.page = page\n",
    "\n",
    "    def display_info(self):\n",
    "        return f\"종이책 제목: {self.title}, 저자: {self.author}, 페이지: {self.page}쪽\"\n",
    "\n",
    "# 객체 생성\n",
    "ebook = EBook(\"파이썬 마스터\", \"홍길동\", 5)\n",
    "paperbook = PaperBook(\"자바의 정석\", \"남궁성\", 800)\n",
    "\n",
    "# 다형성 활용: 같은 메서드지만 다르게 동작\n",
    "print(ebook.display_info())\n",
    "print(paperbook.display_info())"
   ]
  },
  {
   "cell_type": "code",
   "execution_count": 10,
   "metadata": {},
   "outputs": [
    {
     "name": "stdout",
     "output_type": "stream",
     "text": [
      "현재 연료: 50L\n",
      "30km 주행 완료! 남은 연료: 20L\n",
      "연료가 부족하여 주행할 수 없습니다.\n",
      "20L 주유 완료! 현재 연료: 40L\n",
      "30km 주행 완료! 남은 연료: 10L\n"
     ]
    }
   ],
   "source": [
    "# 🔹 응용 실습 3: 자동차 관리 시스템 (캡슐화 및 메서드 활용)\n",
    "# 문제:\n",
    "# 자동차 Car 의 연료 잔량을 관리하는 시스템을 만들고,\n",
    "# 캡슐화를 적용하여 연료의 상태를 private으로 보호하세요.\n",
    "# 속성: model, fuel\n",
    "# 게터: get_fuel\n",
    "# 메서드 : drive(self, distance)\n",
    "# refuel(self, amount): # 연료 추가\n",
    "\n",
    "class Car:\n",
    "    def __init__(self, model, fuel):\n",
    "        self.model = model\n",
    "        self.__fuel = fuel  # 연료를 private 속성으로 설정\n",
    "\n",
    "    # Getter 메서드 (연료 잔량 확인)\n",
    "    def get_fuel(self):\n",
    "        return self.__fuel\n",
    "\n",
    "    # 주행 메서드 (연료 감소)\n",
    "    def drive(self, distance):\n",
    "        if self.__fuel >= distance:  # 연료가 충분할 때만 주행 가능\n",
    "            self.__fuel -= distance\n",
    "            print(f\"{distance}km 주행 완료! 남은 연료: {self.__fuel}L\")\n",
    "        else:\n",
    "            print(\"연료가 부족하여 주행할 수 없습니다.\")\n",
    "\n",
    "    # 연료 주유 메서드\n",
    "    def refuel(self, amount):\n",
    "        if amount > 0:\n",
    "            self.__fuel += amount\n",
    "            print(f\"{amount}L 주유 완료! 현재 연료: {self.__fuel}L\")\n",
    "        else:\n",
    "            print(\"올바른 주유량을 입력하세요.\")\n",
    "\n",
    "# 객체 생성\n",
    "my_car = Car(\"BMW\", 50)\n",
    "\n",
    "# 연료 상태 확인\n",
    "print(f\"현재 연료: {my_car.get_fuel()}L\")\n",
    "\n",
    "# 주행 시도\n",
    "my_car.drive(30)  # 30km 주행\n",
    "\n",
    "# 연료 부족 상태에서 주행 시도\n",
    "my_car.drive(30)  # 연료 부족 메시지 출력\n",
    "\n",
    "# 주유\n",
    "my_car.refuel(20)\n",
    "\n",
    "# 주유 후 다시 주행\n",
    "my_car.drive(30)"
   ]
  }
 ],
 "metadata": {
  "kernelspec": {
   "display_name": "Python 3",
   "language": "python",
   "name": "python3"
  },
  "language_info": {
   "codemirror_mode": {
    "name": "ipython",
    "version": 3
   },
   "file_extension": ".py",
   "mimetype": "text/x-python",
   "name": "python",
   "nbconvert_exporter": "python",
   "pygments_lexer": "ipython3",
   "version": "3.13.2"
  }
 },
 "nbformat": 4,
 "nbformat_minor": 2
}
