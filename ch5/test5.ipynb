{
 "cells": [
  {
   "cell_type": "code",
   "execution_count": 1,
   "metadata": {},
   "outputs": [
    {
     "name": "stdout",
     "output_type": "stream",
     "text": [
      "[1, 4, 9, 16, 25, 36, 49, 64, 81, 100]\n"
     ]
    }
   ],
   "source": [
    "# 🔹 기본 실습 1: 리스트 컴프리헨션을 활용한 제곱 리스트 만들기\n",
    "\n",
    "# 문제:\n",
    "# 1부터 10까지 숫자의 제곱을 포함하는 리스트를 리스트 컴프리헨션을 사용하여 생성하세요.\n",
    "\n",
    "squares = [x**2 for x in range(1, 11)]\n",
    "print(squares)"
   ]
  },
  {
   "cell_type": "code",
   "execution_count": 2,
   "metadata": {},
   "outputs": [
    {
     "name": "stdout",
     "output_type": "stream",
     "text": [
      "인덱스 0: 사과\n",
      "인덱스 1: 바나나\n",
      "인덱스 2: 체리\n"
     ]
    }
   ],
   "source": [
    "# 🔹 기본 실습 2: enumerate()를 활용한 인덱스와 값 출력\n",
    "\n",
    "# 문제:\n",
    "# 주어진 리스트의 각 요소와 해당 인덱스를 함께 출력하는 코드를 작성하세요.\n",
    "\n",
    "# fruits = [\"사과\", \"바나나\", \"체리\"]\n",
    "\n",
    "fruits = [\"사과\", \"바나나\", \"체리\"]\n",
    "\n",
    "for index, fruit in enumerate(fruits):\n",
    "    print(f\"인덱스 {index}: {fruit}\")"
   ]
  },
  {
   "cell_type": "code",
   "execution_count": 3,
   "metadata": {},
   "outputs": [
    {
     "name": "stdout",
     "output_type": "stream",
     "text": [
      "철수: 85점\n",
      "영희: 90점\n",
      "민수: 78점\n"
     ]
    }
   ],
   "source": [
    "# 🔹 기본 실습 3: zip()을 활용한 두 리스트 묶기\n",
    "\n",
    "# 문제:\n",
    "# 이름 리스트와 점수 리스트를 zip()을 사용하여 결합하고,\n",
    "# 이름과 점수를 함께 출력하는 프로그램을 작성하세요.\n",
    "\n",
    "# names = [\"철수\", \"영희\", \"민수\"]\n",
    "# scores = [85, 90, 78]\n",
    "\n",
    "names = [\"철수\", \"영희\", \"민수\"]\n",
    "scores = [85, 90, 78]\n",
    "\n",
    "for name, score in zip(names, scores):\n",
    "    print(f\"{name}: {score}점\")"
   ]
  },
  {
   "cell_type": "code",
   "execution_count": 4,
   "metadata": {},
   "outputs": [
    {
     "name": "stdout",
     "output_type": "stream",
     "text": [
      "[1, 8, 27, 64, 125]\n"
     ]
    }
   ],
   "source": [
    "# 🔹 응용 실습 1: 람다 함수와 map()을 활용한 리스트 변환\n",
    "\n",
    "# 문제:\n",
    "# 주어진 정수 리스트에서 각 숫자의 세제곱을 구하는\n",
    "# 프로그램을 람다 함수와 map()을 사용하여 작성하세요.\n",
    "\n",
    "# numbers = [1, 2, 3, 4, 5]\n",
    "\n",
    "numbers = [1, 2, 3, 4, 5]\n",
    "cubed_numbers = list(map(lambda x: x**3, numbers))\n",
    "\n",
    "print(cubed_numbers)"
   ]
  },
  {
   "cell_type": "code",
   "execution_count": 5,
   "metadata": {},
   "outputs": [
    {
     "name": "stdout",
     "output_type": "stream",
     "text": [
      "6\n",
      "100\n",
      "0\n"
     ]
    }
   ],
   "source": [
    "# 🔹 응용 실습 2: 가변인수(*args)를 활용한 숫자 합산 함수\n",
    "\n",
    "# 문제:\n",
    "# 가변인수 *args를 활용하여 여러 개의 숫자를 입력받고,\n",
    "# 그 합을 반환하는 함수를 작성하세요.\n",
    "\n",
    "def sum_numbers(*args):\n",
    "    return sum(args)\n",
    "\n",
    "# 테스트\n",
    "print(sum_numbers(1, 2, 3))        # 6\n",
    "print(sum_numbers(10, 20, 30, 40)) # 100\n",
    "print(sum_numbers())               # 0"
   ]
  },
  {
   "cell_type": "code",
   "execution_count": 6,
   "metadata": {},
   "outputs": [
    {
     "name": "stdout",
     "output_type": "stream",
     "text": [
      "name: 홍길동\n",
      "age: 25\n",
      "city: 서울\n",
      "name: 김철수\n",
      "job: 개발자\n",
      "hobby: 축구\n"
     ]
    }
   ],
   "source": [
    "# 🔹 응용 실습 3: 키워드 가변인수(**kwargs)를 활용한 사용자 정보 출력\n",
    "\n",
    "# 문제:\n",
    "# 사용자의 정보를 입력받아 **kwargs를 활용하여 출력하는 함수를 작성하세요.\n",
    "\n",
    "def print_user_info(**kwargs):\n",
    "    for key, value in kwargs.items():\n",
    "        print(f\"{key}: {value}\")\n",
    "\n",
    "# 테스트\n",
    "print_user_info(name=\"홍길동\", age=25, city=\"서울\")\n",
    "print_user_info(name=\"김철수\", job=\"개발자\", hobby=\"축구\")"
   ]
  },
  {
   "cell_type": "code",
   "execution_count": 7,
   "metadata": {},
   "outputs": [
    {
     "name": "stdout",
     "output_type": "stream",
     "text": [
      "[1, 2, 3, 4, 5, 6]\n"
     ]
    }
   ],
   "source": [
    "# 🔹 응용 실습 4: 별표(*) 언패킹 기능을 활용한 리스트 합치기\n",
    "\n",
    "# 문제:\n",
    "# 두 개의 리스트를 * 언패킹 기능을 활용하여 하나의 리스트로 합치는 프로그램을 작성하세요.\n",
    "\n",
    "\n",
    "list1 = [1, 2, 3]\n",
    "list2 = [4, 5, 6]\n",
    "\n",
    "merged_list = [*list1, *list2]\n",
    "\n",
    "print(merged_list)"
   ]
  }
 ],
 "metadata": {
  "kernelspec": {
   "display_name": "Python 3",
   "language": "python",
   "name": "python3"
  },
  "language_info": {
   "codemirror_mode": {
    "name": "ipython",
    "version": 3
   },
   "file_extension": ".py",
   "mimetype": "text/x-python",
   "name": "python",
   "nbconvert_exporter": "python",
   "pygments_lexer": "ipython3",
   "version": "3.13.2"
  }
 },
 "nbformat": 4,
 "nbformat_minor": 2
}
