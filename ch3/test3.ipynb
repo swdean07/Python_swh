{
 "cells": [
  {
   "cell_type": "code",
   "execution_count": 2,
   "metadata": {},
   "outputs": [
    {
     "name": "stdout",
     "output_type": "stream",
     "text": [
      "spam(ham) 전 2416925468928\n",
      "2416925468928\n",
      "eggs의 id: 2416925468928\n",
      "eggs의 append(1)후 eggs의 id2: 2416925468928\n",
      "eggs = [2,3]후 eggs의 id3: 2416925794112\n",
      "spam(ham) 후 2416925468928\n",
      "[0, 1]\n"
     ]
    }
   ],
   "source": [
    "def spam(eggs):\n",
    "    print(f\"eggs의 id: {id(eggs)}\")\n",
    "    eggs.append(1)\n",
    "    print(f\"eggs의 append(1)후 eggs의 id2: {id(eggs)}\")\n",
    "    eggs = [2,3]\n",
    "    print(f\"eggs = [2,3]후 eggs의 id3: {id(eggs)}\")\n",
    "ham = [0]\n",
    "print(f\"spam(ham) 전 {id(ham)}\")\n",
    "print(id(ham))\n",
    "spam(ham)\n",
    "print(f\"spam(ham) 후 {id(ham)}\")\n",
    "print(ham)"
   ]
  },
  {
   "cell_type": "code",
   "execution_count": 5,
   "metadata": {},
   "outputs": [
    {
     "name": "stdout",
     "output_type": "stream",
     "text": [
      "swh\n",
      "swh\n"
     ]
    }
   ],
   "source": [
    "def f():\n",
    "    global s\n",
    "    s = \"swh\"\n",
    "    print(s)\n",
    "s=\"abc\"\n",
    "f()\n",
    "print(s)"
   ]
  },
  {
   "cell_type": "code",
   "execution_count": 8,
   "metadata": {},
   "outputs": [
    {
     "name": "stdout",
     "output_type": "stream",
     "text": [
      "(1, 2, [3])\n",
      "(1, 2, [3, 4])\n",
      "(1, 2, [3, 4, 5])\n"
     ]
    }
   ],
   "source": [
    "def abc(*a):\n",
    "    x,y,*z = a\n",
    "    return x,y,z\n",
    "print(abc(1,2,3))\n",
    "print(abc(1,2,3,4))\n",
    "print(abc(1,2,3,4,5))"
   ]
  },
  {
   "cell_type": "code",
   "execution_count": 13,
   "metadata": {},
   "outputs": [
    {
     "name": "stdout",
     "output_type": "stream",
     "text": [
      "{'first': 3, 'second': 4, 'third': 5}\n",
      "value : 3\n"
     ]
    }
   ],
   "source": [
    "def aaa(**keyword):\n",
    "    print(keyword)\n",
    "    print(f\"value : {keyword['first']}\")\n",
    "aaa(first = 3, second=4, third=5)"
   ]
  },
  {
   "cell_type": "code",
   "execution_count": 15,
   "metadata": {},
   "outputs": [
    {
     "name": "stdout",
     "output_type": "stream",
     "text": [
      "ab\n",
      "cba\n"
     ]
    }
   ],
   "source": [
    "str = \"abc\"\n",
    "print(str[0:2:1])\n",
    "print(str[::-1])"
   ]
  },
  {
   "cell_type": "code",
   "execution_count": null,
   "metadata": {},
   "outputs": [],
   "source": [
    "#미니실습 #파이썬기초 #bigdata_with_python\n",
    "\n",
    "# 🔹 기본 실습 1: 문자열 길이 구하기\n",
    "# 문제:\n",
    "# 사용자로부터 문자열을 입력받아, 해당 문자열의 길이를 출력하는 함수를 작성하세요.\n",
    "\n",
    "# 🔹 기본 실습 2: 문자열 뒤집기\n",
    "# 문제:\n",
    "# 사용자로부터 문자열을 입력받아, 해당 문자열을 뒤집어 반환하는 함수를 작성하세요.\n",
    "\n",
    "# 🔹 기본 실습 3: 특정 문자 개수 세기\n",
    "# 문제:\n",
    "# 사용자로부터 문자열과 특정 문자를 입력받아, 해당 문자가 문자열에 몇 개 포함되어 있는지 세는 함수를 작성하세요.\n",
    "\n",
    "\n",
    "# 🔹 응용 실습 1: 문자열 내 단어 개수 세기\n",
    "\n",
    "# 문제:\n",
    "# 사용자로부터 문장을 입력받아, 해당 문장에 포함된 단어의 개수를 반환하는 함수를 작성하세요.\n",
    "\n",
    "\n",
    "# 🔹 응용 실습 2: 대소문자 변환하기\n",
    "# 문제:\n",
    "# 사용자로부터 문자열을 입력받아, 모든 소문자를 대문자로, 대문자를 소문자로 변환하는 함수를 작성하세요.\n",
    "\n",
    "\n",
    "# 🔹 응용 실습 3: 회문(팰린드롬) 검사하기\n",
    "# 문제:\n",
    "# 사용자가 입력한 문자열이 회문(앞뒤가 동일한 문자열)인지 확인하는 함수를 작성하세요."
   ]
  },
  {
   "cell_type": "code",
   "execution_count": 29,
   "metadata": {},
   "outputs": [
    {
     "name": "stdout",
     "output_type": "stream",
     "text": [
      "입력한 문자열의 길이: 4\n"
     ]
    }
   ],
   "source": [
    "# 기본 실습1\n",
    "def str_len():\n",
    "    user = input(\"문자열을 입력하세요: \")\n",
    "    print(f\"입력한 문자열의 길이: {len(user)}\")\n",
    "str_len()"
   ]
  },
  {
   "cell_type": "code",
   "execution_count": null,
   "metadata": {},
   "outputs": [
    {
     "data": {
      "text/plain": [
       "'nwotemoh ym si siht'"
      ]
     },
     "execution_count": 23,
     "metadata": {},
     "output_type": "execute_result"
    }
   ],
   "source": [
    "#기본 실습2\n",
    "def rev_str():\n",
    "    user = input(\"문자열을 입력하세요: \")\n",
    "    return user[::-1]\n",
    "rev_str()"
   ]
  },
  {
   "cell_type": "code",
   "execution_count": 35,
   "metadata": {},
   "outputs": [
    {
     "name": "stdout",
     "output_type": "stream",
     "text": [
      "text: happy day\n",
      "p의 문자 개수: 2\n"
     ]
    }
   ],
   "source": [
    "#기본 실습3\n",
    "def count():\n",
    "    text = input(\"문자열을 입력하세요: \")\n",
    "    char = input(\"세고 싶은 문자를 입력하세요: \")\n",
    "    count = text.count(char)\n",
    "    print(f\"text: {text}\")\n",
    "    print(f\"{char}의 문자 개수: {count}\")\n",
    "count()"
   ]
  },
  {
   "cell_type": "code",
   "execution_count": 34,
   "metadata": {},
   "outputs": [
    {
     "name": "stdout",
     "output_type": "stream",
     "text": [
      "words: ['this', 'is', 'my', 'hometown.']\n"
     ]
    },
    {
     "data": {
      "text/plain": [
       "4"
      ]
     },
     "execution_count": 34,
     "metadata": {},
     "output_type": "execute_result"
    }
   ],
   "source": [
    "#응용 실습1\n",
    "def str():\n",
    "    text = input(\"문자열을 입력하세요: \")\n",
    "    words = text.split()\n",
    "    print(f\"words: {words}\")\n",
    "    return len(words)\n",
    "str()"
   ]
  },
  {
   "cell_type": "code",
   "execution_count": null,
   "metadata": {},
   "outputs": [
    {
     "data": {
      "text/plain": [
       "'hOW MANY YEARS ARE YOU STAYING IN lONDON?'"
      ]
     },
     "execution_count": 16,
     "metadata": {},
     "output_type": "execute_result"
    }
   ],
   "source": [
    "#응용 실습2\n",
    "def swap_case():\n",
    "    text = input(\"문자열을 입력하세요: \")\n",
    "    return text.swapcase()\n",
    "swap_case()"
   ]
  },
  {
   "cell_type": "code",
   "execution_count": 37,
   "metadata": {},
   "outputs": [
    {
     "data": {
      "text/plain": [
       "'cAN yOU tELL mE?'"
      ]
     },
     "execution_count": 37,
     "metadata": {},
     "output_type": "execute_result"
    }
   ],
   "source": [
    "#응용 실습2\n",
    "def change_word_type(str):\n",
    "    return str.swapcase()\n",
    "input_str = input(\"문자열을 입력하세요:\")\n",
    "change_word_type(input_str)"
   ]
  },
  {
   "cell_type": "code",
   "execution_count": null,
   "metadata": {},
   "outputs": [
    {
     "data": {
      "text/plain": [
       "True"
      ]
     },
     "execution_count": 22,
     "metadata": {},
     "output_type": "execute_result"
    }
   ],
   "source": [
    "#응용 실습3\n",
    "def pelindrome():\n",
    "    text = input(\"문자열을 입력하세요: \").replace(\" \", \"\").lower()\n",
    "    return text == text[::-1]\n",
    "pelindrome()\n"
   ]
  },
  {
   "cell_type": "code",
   "execution_count": null,
   "metadata": {},
   "outputs": [],
   "source": [
    "#응용 실습3\n",
    "def equal_first_end(str):\n",
    "    return str == str[::-1]\n",
    "input_str = input(\"문자열을 입력하세요:\")\n",
    "if equal_first_end(input_str):\n",
    "    print(\"앞 뒤가 동일한 문자입니다.\")\n",
    "else:\n",
    "    print(\"앞 뒤가 다른 문자입니다.\")"
   ]
  }
 ],
 "metadata": {
  "kernelspec": {
   "display_name": "Python 3",
   "language": "python",
   "name": "python3"
  },
  "language_info": {
   "codemirror_mode": {
    "name": "ipython",
    "version": 3
   },
   "file_extension": ".py",
   "mimetype": "text/x-python",
   "name": "python",
   "nbconvert_exporter": "python",
   "pygments_lexer": "ipython3",
   "version": "3.13.2"
  }
 },
 "nbformat": 4,
 "nbformat_minor": 2
}
