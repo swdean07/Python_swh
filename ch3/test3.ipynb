{
 "cells": [
  {
   "cell_type": "code",
   "execution_count": 2,
   "metadata": {},
   "outputs": [
    {
     "name": "stdout",
     "output_type": "stream",
     "text": [
      "spam(ham) 전 2416925468928\n",
      "2416925468928\n",
      "eggs의 id: 2416925468928\n",
      "eggs의 append(1)후 eggs의 id2: 2416925468928\n",
      "eggs = [2,3]후 eggs의 id3: 2416925794112\n",
      "spam(ham) 후 2416925468928\n",
      "[0, 1]\n"
     ]
    }
   ],
   "source": [
    "def spam(eggs):\n",
    "    print(f\"eggs의 id: {id(eggs)}\")\n",
    "    eggs.append(1)\n",
    "    print(f\"eggs의 append(1)후 eggs의 id2: {id(eggs)}\")\n",
    "    eggs = [2,3]\n",
    "    print(f\"eggs = [2,3]후 eggs의 id3: {id(eggs)}\")\n",
    "ham = [0]\n",
    "print(f\"spam(ham) 전 {id(ham)}\")\n",
    "print(id(ham))\n",
    "spam(ham)\n",
    "print(f\"spam(ham) 후 {id(ham)}\")\n",
    "print(ham)"
   ]
  },
  {
   "cell_type": "code",
   "execution_count": 5,
   "metadata": {},
   "outputs": [
    {
     "name": "stdout",
     "output_type": "stream",
     "text": [
      "swh\n",
      "swh\n"
     ]
    }
   ],
   "source": [
    "def f():\n",
    "    global s\n",
    "    s = \"swh\"\n",
    "    print(s)\n",
    "s=\"abc\"\n",
    "f()\n",
    "print(s)"
   ]
  },
  {
   "cell_type": "code",
   "execution_count": 8,
   "metadata": {},
   "outputs": [
    {
     "name": "stdout",
     "output_type": "stream",
     "text": [
      "(1, 2, [3])\n",
      "(1, 2, [3, 4])\n",
      "(1, 2, [3, 4, 5])\n"
     ]
    }
   ],
   "source": [
    "def abc(*a):\n",
    "    x,y,*z = a\n",
    "    return x,y,z\n",
    "print(abc(1,2,3))\n",
    "print(abc(1,2,3,4))\n",
    "print(abc(1,2,3,4,5))"
   ]
  },
  {
   "cell_type": "code",
   "execution_count": 13,
   "metadata": {},
   "outputs": [
    {
     "name": "stdout",
     "output_type": "stream",
     "text": [
      "{'first': 3, 'second': 4, 'third': 5}\n",
      "value : 3\n"
     ]
    }
   ],
   "source": [
    "def aaa(**keyword):\n",
    "    print(keyword)\n",
    "    print(f\"value : {keyword['first']}\")\n",
    "aaa(first = 3, second=4, third=5)"
   ]
  },
  {
   "cell_type": "code",
   "execution_count": 15,
   "metadata": {},
   "outputs": [
    {
     "name": "stdout",
     "output_type": "stream",
     "text": [
      "ab\n",
      "cba\n"
     ]
    }
   ],
   "source": [
    "str = \"abc\"\n",
    "print(str[0:2:1])\n",
    "print(str[::-1])"
   ]
  }
 ],
 "metadata": {
  "kernelspec": {
   "display_name": "Python 3",
   "language": "python",
   "name": "python3"
  },
  "language_info": {
   "codemirror_mode": {
    "name": "ipython",
    "version": 3
   },
   "file_extension": ".py",
   "mimetype": "text/x-python",
   "name": "python",
   "nbconvert_exporter": "python",
   "pygments_lexer": "ipython3",
   "version": "3.13.2"
  }
 },
 "nbformat": 4,
 "nbformat_minor": 2
}
